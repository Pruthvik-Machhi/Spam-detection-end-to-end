{
 "cells": [
  {
   "cell_type": "markdown",
   "id": "99d4a1e5",
   "metadata": {
    "jp-MarkdownHeadingCollapsed": true,
    "papermill": {
     "duration": 0.019018,
     "end_time": "2024-06-18T08:59:36.257715",
     "exception": false,
     "start_time": "2024-06-18T08:59:36.238697",
     "status": "completed"
    },
    "tags": []
   },
   "source": [
    "<div style=\"background-color: #ff0000; padding: 20px; border-radius: 10px;\">\n",
    "    <h1 style=\"text-align: left; font-size: 32px;\">  SMS SPAM DETECTION </h1>\n",
    "</div>\n"
   ]
  },
  {
   "cell_type": "markdown",
   "id": "c0282c8d",
   "metadata": {
    "papermill": {
     "duration": 0.017947,
     "end_time": "2024-06-18T08:59:36.294504",
     "exception": false,
     "start_time": "2024-06-18T08:59:36.276557",
     "status": "completed"
    },
    "tags": []
   },
   "source": [
    "<a id=\"1\"></a>\n",
    "<div style=\"font-family: Cambria; font-weight: bold; letter-spacing: 0px; color: #ffffff; font-size: 120%; text-align: left; padding: 3px; background-color: #0000ff; border-bottom: 10px solid #80ffff;\">\n",
    "    LIBRARY IMPORTS\n",
    "</div>\n"
   ]
  },
  {
   "cell_type": "code",
   "execution_count": 1,
   "id": "4d7eef25",
   "metadata": {
    "execution": {
     "iopub.execute_input": "2024-06-18T08:59:36.332972Z",
     "iopub.status.busy": "2024-06-18T08:59:36.332451Z",
     "iopub.status.idle": "2024-06-18T08:59:40.876386Z",
     "shell.execute_reply": "2024-06-18T08:59:40.874762Z"
    },
    "papermill": {
     "duration": 4.567692,
     "end_time": "2024-06-18T08:59:40.880139",
     "exception": false,
     "start_time": "2024-06-18T08:59:36.312447",
     "status": "completed"
    },
    "tags": []
   },
   "outputs": [],
   "source": [
    "import pandas as pd\n",
    "import seaborn as sns\n",
    "from sklearn.model_selection import train_test_split\n",
    "from sklearn.neighbors import KNeighborsClassifier\n",
    "from sklearn.metrics import accuracy_score, precision_score, recall_score, f1_score, confusion_matrix\n",
    "import matplotlib.pyplot as plt\n",
    "import warnings\n",
    "warnings.filterwarnings('ignore')\n",
    "import numpy as np\n",
    "import pandas as pd\n",
    "import re\n",
    "from sklearn.model_selection import train_test_split\n",
    "from sklearn.feature_extraction.text import CountVectorizer\n",
    "from sklearn.naive_bayes import MultinomialNB\n",
    "from sklearn.metrics import accuracy_score, classification_report, confusion_matrix\n",
    "from nltk.corpus import stopwords\n",
    "from nltk.stem import PorterStemmer\n",
    "from nltk.tokenize import word_tokenize\n",
    "import nltk\n",
    "from sklearn.naive_bayes import MultinomialNB"
   ]
  },
  {
   "cell_type": "markdown",
   "id": "cefa0648",
   "metadata": {
    "papermill": {
     "duration": 0.018354,
     "end_time": "2024-06-18T08:59:40.923868",
     "exception": false,
     "start_time": "2024-06-18T08:59:40.905514",
     "status": "completed"
    },
    "tags": []
   },
   "source": [
    "<a id=\"1\"></a>\n",
    "<div style=\"font-family: Cambria; font-weight: bold; letter-spacing: 0px; color: #ffffff; font-size: 120%; text-align: left; padding: 3px; background-color: #0000ff; border-bottom: 10px solid #80ffff;\">\n",
    "    LOAD DATA\n",
    "</div>"
   ]
  },
  {
   "cell_type": "code",
   "execution_count": 2,
   "id": "45e76efc",
   "metadata": {
    "execution": {
     "iopub.execute_input": "2024-06-18T08:59:40.964702Z",
     "iopub.status.busy": "2024-06-18T08:59:40.963935Z",
     "iopub.status.idle": "2024-06-18T08:59:41.049747Z",
     "shell.execute_reply": "2024-06-18T08:59:41.048067Z"
    },
    "papermill": {
     "duration": 0.109646,
     "end_time": "2024-06-18T08:59:41.053131",
     "exception": false,
     "start_time": "2024-06-18T08:59:40.943485",
     "status": "completed"
    },
    "tags": []
   },
   "outputs": [
    {
     "data": {
      "text/html": [
       "<div>\n",
       "<style scoped>\n",
       "    .dataframe tbody tr th:only-of-type {\n",
       "        vertical-align: middle;\n",
       "    }\n",
       "\n",
       "    .dataframe tbody tr th {\n",
       "        vertical-align: top;\n",
       "    }\n",
       "\n",
       "    .dataframe thead th {\n",
       "        text-align: right;\n",
       "    }\n",
       "</style>\n",
       "<table border=\"1\" class=\"dataframe\">\n",
       "  <thead>\n",
       "    <tr style=\"text-align: right;\">\n",
       "      <th></th>\n",
       "      <th>v1</th>\n",
       "      <th>v2</th>\n",
       "      <th>Unnamed: 2</th>\n",
       "      <th>Unnamed: 3</th>\n",
       "      <th>Unnamed: 4</th>\n",
       "    </tr>\n",
       "  </thead>\n",
       "  <tbody>\n",
       "    <tr>\n",
       "      <th>0</th>\n",
       "      <td>ham</td>\n",
       "      <td>Go until jurong point, crazy.. Available only ...</td>\n",
       "      <td>NaN</td>\n",
       "      <td>NaN</td>\n",
       "      <td>NaN</td>\n",
       "    </tr>\n",
       "    <tr>\n",
       "      <th>1</th>\n",
       "      <td>ham</td>\n",
       "      <td>Ok lar... Joking wif u oni...</td>\n",
       "      <td>NaN</td>\n",
       "      <td>NaN</td>\n",
       "      <td>NaN</td>\n",
       "    </tr>\n",
       "    <tr>\n",
       "      <th>2</th>\n",
       "      <td>spam</td>\n",
       "      <td>Free entry in 2 a wkly comp to win FA Cup fina...</td>\n",
       "      <td>NaN</td>\n",
       "      <td>NaN</td>\n",
       "      <td>NaN</td>\n",
       "    </tr>\n",
       "    <tr>\n",
       "      <th>3</th>\n",
       "      <td>ham</td>\n",
       "      <td>U dun say so early hor... U c already then say...</td>\n",
       "      <td>NaN</td>\n",
       "      <td>NaN</td>\n",
       "      <td>NaN</td>\n",
       "    </tr>\n",
       "    <tr>\n",
       "      <th>4</th>\n",
       "      <td>ham</td>\n",
       "      <td>Nah I don't think he goes to usf, he lives aro...</td>\n",
       "      <td>NaN</td>\n",
       "      <td>NaN</td>\n",
       "      <td>NaN</td>\n",
       "    </tr>\n",
       "    <tr>\n",
       "      <th>...</th>\n",
       "      <td>...</td>\n",
       "      <td>...</td>\n",
       "      <td>...</td>\n",
       "      <td>...</td>\n",
       "      <td>...</td>\n",
       "    </tr>\n",
       "    <tr>\n",
       "      <th>5567</th>\n",
       "      <td>spam</td>\n",
       "      <td>This is the 2nd time we have tried 2 contact u...</td>\n",
       "      <td>NaN</td>\n",
       "      <td>NaN</td>\n",
       "      <td>NaN</td>\n",
       "    </tr>\n",
       "    <tr>\n",
       "      <th>5568</th>\n",
       "      <td>ham</td>\n",
       "      <td>Will Ì_ b going to esplanade fr home?</td>\n",
       "      <td>NaN</td>\n",
       "      <td>NaN</td>\n",
       "      <td>NaN</td>\n",
       "    </tr>\n",
       "    <tr>\n",
       "      <th>5569</th>\n",
       "      <td>ham</td>\n",
       "      <td>Pity, * was in mood for that. So...any other s...</td>\n",
       "      <td>NaN</td>\n",
       "      <td>NaN</td>\n",
       "      <td>NaN</td>\n",
       "    </tr>\n",
       "    <tr>\n",
       "      <th>5570</th>\n",
       "      <td>ham</td>\n",
       "      <td>The guy did some bitching but I acted like i'd...</td>\n",
       "      <td>NaN</td>\n",
       "      <td>NaN</td>\n",
       "      <td>NaN</td>\n",
       "    </tr>\n",
       "    <tr>\n",
       "      <th>5571</th>\n",
       "      <td>ham</td>\n",
       "      <td>Rofl. Its true to its name</td>\n",
       "      <td>NaN</td>\n",
       "      <td>NaN</td>\n",
       "      <td>NaN</td>\n",
       "    </tr>\n",
       "  </tbody>\n",
       "</table>\n",
       "<p>5572 rows × 5 columns</p>\n",
       "</div>"
      ],
      "text/plain": [
       "        v1                                                 v2 Unnamed: 2  \\\n",
       "0      ham  Go until jurong point, crazy.. Available only ...        NaN   \n",
       "1      ham                      Ok lar... Joking wif u oni...        NaN   \n",
       "2     spam  Free entry in 2 a wkly comp to win FA Cup fina...        NaN   \n",
       "3      ham  U dun say so early hor... U c already then say...        NaN   \n",
       "4      ham  Nah I don't think he goes to usf, he lives aro...        NaN   \n",
       "...    ...                                                ...        ...   \n",
       "5567  spam  This is the 2nd time we have tried 2 contact u...        NaN   \n",
       "5568   ham              Will Ì_ b going to esplanade fr home?        NaN   \n",
       "5569   ham  Pity, * was in mood for that. So...any other s...        NaN   \n",
       "5570   ham  The guy did some bitching but I acted like i'd...        NaN   \n",
       "5571   ham                         Rofl. Its true to its name        NaN   \n",
       "\n",
       "     Unnamed: 3 Unnamed: 4  \n",
       "0           NaN        NaN  \n",
       "1           NaN        NaN  \n",
       "2           NaN        NaN  \n",
       "3           NaN        NaN  \n",
       "4           NaN        NaN  \n",
       "...         ...        ...  \n",
       "5567        NaN        NaN  \n",
       "5568        NaN        NaN  \n",
       "5569        NaN        NaN  \n",
       "5570        NaN        NaN  \n",
       "5571        NaN        NaN  \n",
       "\n",
       "[5572 rows x 5 columns]"
      ]
     },
     "execution_count": 2,
     "metadata": {},
     "output_type": "execute_result"
    }
   ],
   "source": [
    "df = pd.read_csv(r\"/kaggle/input/sms-spam-collection-dataset/spam.csv\", encoding='ISO-8859-1')\n",
    "df"
   ]
  },
  {
   "cell_type": "code",
   "execution_count": 3,
   "id": "7a0aa71d",
   "metadata": {
    "execution": {
     "iopub.execute_input": "2024-06-18T08:59:41.096592Z",
     "iopub.status.busy": "2024-06-18T08:59:41.096088Z",
     "iopub.status.idle": "2024-06-18T08:59:41.135748Z",
     "shell.execute_reply": "2024-06-18T08:59:41.133925Z"
    },
    "papermill": {
     "duration": 0.065492,
     "end_time": "2024-06-18T08:59:41.138900",
     "exception": false,
     "start_time": "2024-06-18T08:59:41.073408",
     "status": "completed"
    },
    "tags": []
   },
   "outputs": [
    {
     "name": "stdout",
     "output_type": "stream",
     "text": [
      "<class 'pandas.core.frame.DataFrame'>\n",
      "RangeIndex: 5572 entries, 0 to 5571\n",
      "Data columns (total 5 columns):\n",
      " #   Column      Non-Null Count  Dtype \n",
      "---  ------      --------------  ----- \n",
      " 0   v1          5572 non-null   object\n",
      " 1   v2          5572 non-null   object\n",
      " 2   Unnamed: 2  50 non-null     object\n",
      " 3   Unnamed: 3  12 non-null     object\n",
      " 4   Unnamed: 4  6 non-null      object\n",
      "dtypes: object(5)\n",
      "memory usage: 217.8+ KB\n"
     ]
    }
   ],
   "source": [
    "df.info()"
   ]
  },
  {
   "cell_type": "code",
   "execution_count": 4,
   "id": "9d0febe1",
   "metadata": {
    "execution": {
     "iopub.execute_input": "2024-06-18T08:59:41.178927Z",
     "iopub.status.busy": "2024-06-18T08:59:41.178361Z",
     "iopub.status.idle": "2024-06-18T08:59:41.199724Z",
     "shell.execute_reply": "2024-06-18T08:59:41.198423Z"
    },
    "papermill": {
     "duration": 0.046044,
     "end_time": "2024-06-18T08:59:41.203363",
     "exception": false,
     "start_time": "2024-06-18T08:59:41.157319",
     "status": "completed"
    },
    "tags": []
   },
   "outputs": [
    {
     "data": {
      "text/html": [
       "<div>\n",
       "<style scoped>\n",
       "    .dataframe tbody tr th:only-of-type {\n",
       "        vertical-align: middle;\n",
       "    }\n",
       "\n",
       "    .dataframe tbody tr th {\n",
       "        vertical-align: top;\n",
       "    }\n",
       "\n",
       "    .dataframe thead th {\n",
       "        text-align: right;\n",
       "    }\n",
       "</style>\n",
       "<table border=\"1\" class=\"dataframe\">\n",
       "  <thead>\n",
       "    <tr style=\"text-align: right;\">\n",
       "      <th></th>\n",
       "      <th>v1</th>\n",
       "      <th>v2</th>\n",
       "    </tr>\n",
       "  </thead>\n",
       "  <tbody>\n",
       "    <tr>\n",
       "      <th>0</th>\n",
       "      <td>ham</td>\n",
       "      <td>Go until jurong point, crazy.. Available only ...</td>\n",
       "    </tr>\n",
       "    <tr>\n",
       "      <th>1</th>\n",
       "      <td>ham</td>\n",
       "      <td>Ok lar... Joking wif u oni...</td>\n",
       "    </tr>\n",
       "    <tr>\n",
       "      <th>2</th>\n",
       "      <td>spam</td>\n",
       "      <td>Free entry in 2 a wkly comp to win FA Cup fina...</td>\n",
       "    </tr>\n",
       "    <tr>\n",
       "      <th>3</th>\n",
       "      <td>ham</td>\n",
       "      <td>U dun say so early hor... U c already then say...</td>\n",
       "    </tr>\n",
       "    <tr>\n",
       "      <th>4</th>\n",
       "      <td>ham</td>\n",
       "      <td>Nah I don't think he goes to usf, he lives aro...</td>\n",
       "    </tr>\n",
       "    <tr>\n",
       "      <th>...</th>\n",
       "      <td>...</td>\n",
       "      <td>...</td>\n",
       "    </tr>\n",
       "    <tr>\n",
       "      <th>5567</th>\n",
       "      <td>spam</td>\n",
       "      <td>This is the 2nd time we have tried 2 contact u...</td>\n",
       "    </tr>\n",
       "    <tr>\n",
       "      <th>5568</th>\n",
       "      <td>ham</td>\n",
       "      <td>Will Ì_ b going to esplanade fr home?</td>\n",
       "    </tr>\n",
       "    <tr>\n",
       "      <th>5569</th>\n",
       "      <td>ham</td>\n",
       "      <td>Pity, * was in mood for that. So...any other s...</td>\n",
       "    </tr>\n",
       "    <tr>\n",
       "      <th>5570</th>\n",
       "      <td>ham</td>\n",
       "      <td>The guy did some bitching but I acted like i'd...</td>\n",
       "    </tr>\n",
       "    <tr>\n",
       "      <th>5571</th>\n",
       "      <td>ham</td>\n",
       "      <td>Rofl. Its true to its name</td>\n",
       "    </tr>\n",
       "  </tbody>\n",
       "</table>\n",
       "<p>5572 rows × 2 columns</p>\n",
       "</div>"
      ],
      "text/plain": [
       "        v1                                                 v2\n",
       "0      ham  Go until jurong point, crazy.. Available only ...\n",
       "1      ham                      Ok lar... Joking wif u oni...\n",
       "2     spam  Free entry in 2 a wkly comp to win FA Cup fina...\n",
       "3      ham  U dun say so early hor... U c already then say...\n",
       "4      ham  Nah I don't think he goes to usf, he lives aro...\n",
       "...    ...                                                ...\n",
       "5567  spam  This is the 2nd time we have tried 2 contact u...\n",
       "5568   ham              Will Ì_ b going to esplanade fr home?\n",
       "5569   ham  Pity, * was in mood for that. So...any other s...\n",
       "5570   ham  The guy did some bitching but I acted like i'd...\n",
       "5571   ham                         Rofl. Its true to its name\n",
       "\n",
       "[5572 rows x 2 columns]"
      ]
     },
     "execution_count": 4,
     "metadata": {},
     "output_type": "execute_result"
    }
   ],
   "source": [
    "df.drop(columns=['Unnamed: 2','Unnamed: 3','Unnamed: 4'],inplace=True)\n",
    "df"
   ]
  },
  {
   "cell_type": "markdown",
   "id": "d82cb896",
   "metadata": {
    "papermill": {
     "duration": 0.019736,
     "end_time": "2024-06-18T08:59:41.245160",
     "exception": false,
     "start_time": "2024-06-18T08:59:41.225424",
     "status": "completed"
    },
    "tags": []
   },
   "source": [
    "<a id=\"1\"></a>\n",
    "<div style=\"font-family: Cambria; font-weight: bold; letter-spacing: 0px; color: #ffffff; font-size: 120%; text-align: left; padding: 3px; background-color: #0000ff; border-bottom: 10px solid #80ffff;\">\n",
    "    Handling missing Duplicated data\n",
    "</div>"
   ]
  },
  {
   "cell_type": "code",
   "execution_count": 5,
   "id": "90edc4ff",
   "metadata": {
    "execution": {
     "iopub.execute_input": "2024-06-18T08:59:41.288697Z",
     "iopub.status.busy": "2024-06-18T08:59:41.288101Z",
     "iopub.status.idle": "2024-06-18T08:59:41.304392Z",
     "shell.execute_reply": "2024-06-18T08:59:41.303048Z"
    },
    "papermill": {
     "duration": 0.041308,
     "end_time": "2024-06-18T08:59:41.307318",
     "exception": false,
     "start_time": "2024-06-18T08:59:41.266010",
     "status": "completed"
    },
    "tags": []
   },
   "outputs": [
    {
     "data": {
      "text/plain": [
       "v1    0\n",
       "v2    0\n",
       "dtype: int64"
      ]
     },
     "execution_count": 5,
     "metadata": {},
     "output_type": "execute_result"
    }
   ],
   "source": [
    "df.isnull().sum()"
   ]
  },
  {
   "cell_type": "markdown",
   "id": "9bba9690",
   "metadata": {
    "papermill": {
     "duration": 0.021896,
     "end_time": "2024-06-18T08:59:41.348092",
     "exception": false,
     "start_time": "2024-06-18T08:59:41.326196",
     "status": "completed"
    },
    "tags": []
   },
   "source": [
    "<!-- # Fill missing processor_type with 'unknown' -->"
   ]
  },
  {
   "cell_type": "markdown",
   "id": "339cfb77",
   "metadata": {
    "papermill": {
     "duration": 0.019081,
     "end_time": "2024-06-18T08:59:41.387215",
     "exception": false,
     "start_time": "2024-06-18T08:59:41.368134",
     "status": "completed"
    },
    "tags": []
   },
   "source": [
    "# Drop the duplicated data"
   ]
  },
  {
   "cell_type": "code",
   "execution_count": 6,
   "id": "0d9cefd6",
   "metadata": {
    "execution": {
     "iopub.execute_input": "2024-06-18T08:59:41.440001Z",
     "iopub.status.busy": "2024-06-18T08:59:41.439158Z",
     "iopub.status.idle": "2024-06-18T08:59:41.456261Z",
     "shell.execute_reply": "2024-06-18T08:59:41.454541Z"
    },
    "papermill": {
     "duration": 0.055187,
     "end_time": "2024-06-18T08:59:41.462831",
     "exception": false,
     "start_time": "2024-06-18T08:59:41.407644",
     "status": "completed"
    },
    "tags": []
   },
   "outputs": [
    {
     "data": {
      "text/plain": [
       "403"
      ]
     },
     "execution_count": 6,
     "metadata": {},
     "output_type": "execute_result"
    }
   ],
   "source": [
    "df.duplicated().sum()"
   ]
  },
  {
   "cell_type": "code",
   "execution_count": 7,
   "id": "7bbb1177",
   "metadata": {
    "execution": {
     "iopub.execute_input": "2024-06-18T08:59:41.513872Z",
     "iopub.status.busy": "2024-06-18T08:59:41.513160Z",
     "iopub.status.idle": "2024-06-18T08:59:41.524170Z",
     "shell.execute_reply": "2024-06-18T08:59:41.522756Z"
    },
    "papermill": {
     "duration": 0.037913,
     "end_time": "2024-06-18T08:59:41.527836",
     "exception": false,
     "start_time": "2024-06-18T08:59:41.489923",
     "status": "completed"
    },
    "tags": []
   },
   "outputs": [],
   "source": [
    "df = df.drop_duplicates(keep='first')"
   ]
  },
  {
   "cell_type": "code",
   "execution_count": 8,
   "id": "783176da",
   "metadata": {
    "execution": {
     "iopub.execute_input": "2024-06-18T08:59:41.589424Z",
     "iopub.status.busy": "2024-06-18T08:59:41.587689Z",
     "iopub.status.idle": "2024-06-18T08:59:41.601749Z",
     "shell.execute_reply": "2024-06-18T08:59:41.598844Z"
    },
    "papermill": {
     "duration": 0.048063,
     "end_time": "2024-06-18T08:59:41.606841",
     "exception": false,
     "start_time": "2024-06-18T08:59:41.558778",
     "status": "completed"
    },
    "tags": []
   },
   "outputs": [
    {
     "data": {
      "text/plain": [
       "(5169, 2)"
      ]
     },
     "execution_count": 8,
     "metadata": {},
     "output_type": "execute_result"
    }
   ],
   "source": [
    "df.shape"
   ]
  },
  {
   "cell_type": "markdown",
   "id": "fdbc779f",
   "metadata": {
    "papermill": {
     "duration": 0.025253,
     "end_time": "2024-06-18T08:59:41.661748",
     "exception": false,
     "start_time": "2024-06-18T08:59:41.636495",
     "status": "completed"
    },
    "tags": []
   },
   "source": [
    "<a id=\"1\"></a>\n",
    "<div style=\"font-family: Cambria; font-weight: bold; letter-spacing: 0px; color: #ffffff; font-size: 120%; text-align: left; padding: 3px; background-color: #0000ff; border-bottom: 10px solid #80ffff;\">\n",
    "    Encoding\n",
    "</div>"
   ]
  },
  {
   "cell_type": "markdown",
   "id": "67494f42",
   "metadata": {
    "papermill": {
     "duration": 0.020244,
     "end_time": "2024-06-18T08:59:41.704052",
     "exception": false,
     "start_time": "2024-06-18T08:59:41.683808",
     "status": "completed"
    },
    "tags": []
   },
   "source": [
    "# Label encoding"
   ]
  },
  {
   "cell_type": "code",
   "execution_count": 9,
   "id": "5ad7766f",
   "metadata": {
    "execution": {
     "iopub.execute_input": "2024-06-18T08:59:41.764585Z",
     "iopub.status.busy": "2024-06-18T08:59:41.764119Z",
     "iopub.status.idle": "2024-06-18T08:59:41.775839Z",
     "shell.execute_reply": "2024-06-18T08:59:41.773704Z"
    },
    "papermill": {
     "duration": 0.046665,
     "end_time": "2024-06-18T08:59:41.779714",
     "exception": false,
     "start_time": "2024-06-18T08:59:41.733049",
     "status": "completed"
    },
    "tags": []
   },
   "outputs": [],
   "source": [
    "from sklearn.preprocessing import LabelEncoder\n",
    "encoder = LabelEncoder()\n",
    "df['v1'] = encoder.fit_transform(df['v1'])"
   ]
  },
  {
   "cell_type": "code",
   "execution_count": 10,
   "id": "256e1442",
   "metadata": {
    "execution": {
     "iopub.execute_input": "2024-06-18T08:59:41.825549Z",
     "iopub.status.busy": "2024-06-18T08:59:41.825125Z",
     "iopub.status.idle": "2024-06-18T08:59:41.838976Z",
     "shell.execute_reply": "2024-06-18T08:59:41.837661Z"
    },
    "papermill": {
     "duration": 0.040075,
     "end_time": "2024-06-18T08:59:41.842404",
     "exception": false,
     "start_time": "2024-06-18T08:59:41.802329",
     "status": "completed"
    },
    "tags": []
   },
   "outputs": [
    {
     "data": {
      "text/html": [
       "<div>\n",
       "<style scoped>\n",
       "    .dataframe tbody tr th:only-of-type {\n",
       "        vertical-align: middle;\n",
       "    }\n",
       "\n",
       "    .dataframe tbody tr th {\n",
       "        vertical-align: top;\n",
       "    }\n",
       "\n",
       "    .dataframe thead th {\n",
       "        text-align: right;\n",
       "    }\n",
       "</style>\n",
       "<table border=\"1\" class=\"dataframe\">\n",
       "  <thead>\n",
       "    <tr style=\"text-align: right;\">\n",
       "      <th></th>\n",
       "      <th>v1</th>\n",
       "      <th>v2</th>\n",
       "    </tr>\n",
       "  </thead>\n",
       "  <tbody>\n",
       "    <tr>\n",
       "      <th>0</th>\n",
       "      <td>0</td>\n",
       "      <td>Go until jurong point, crazy.. Available only ...</td>\n",
       "    </tr>\n",
       "    <tr>\n",
       "      <th>1</th>\n",
       "      <td>0</td>\n",
       "      <td>Ok lar... Joking wif u oni...</td>\n",
       "    </tr>\n",
       "    <tr>\n",
       "      <th>2</th>\n",
       "      <td>1</td>\n",
       "      <td>Free entry in 2 a wkly comp to win FA Cup fina...</td>\n",
       "    </tr>\n",
       "    <tr>\n",
       "      <th>3</th>\n",
       "      <td>0</td>\n",
       "      <td>U dun say so early hor... U c already then say...</td>\n",
       "    </tr>\n",
       "    <tr>\n",
       "      <th>4</th>\n",
       "      <td>0</td>\n",
       "      <td>Nah I don't think he goes to usf, he lives aro...</td>\n",
       "    </tr>\n",
       "    <tr>\n",
       "      <th>...</th>\n",
       "      <td>...</td>\n",
       "      <td>...</td>\n",
       "    </tr>\n",
       "    <tr>\n",
       "      <th>5567</th>\n",
       "      <td>1</td>\n",
       "      <td>This is the 2nd time we have tried 2 contact u...</td>\n",
       "    </tr>\n",
       "    <tr>\n",
       "      <th>5568</th>\n",
       "      <td>0</td>\n",
       "      <td>Will Ì_ b going to esplanade fr home?</td>\n",
       "    </tr>\n",
       "    <tr>\n",
       "      <th>5569</th>\n",
       "      <td>0</td>\n",
       "      <td>Pity, * was in mood for that. So...any other s...</td>\n",
       "    </tr>\n",
       "    <tr>\n",
       "      <th>5570</th>\n",
       "      <td>0</td>\n",
       "      <td>The guy did some bitching but I acted like i'd...</td>\n",
       "    </tr>\n",
       "    <tr>\n",
       "      <th>5571</th>\n",
       "      <td>0</td>\n",
       "      <td>Rofl. Its true to its name</td>\n",
       "    </tr>\n",
       "  </tbody>\n",
       "</table>\n",
       "<p>5169 rows × 2 columns</p>\n",
       "</div>"
      ],
      "text/plain": [
       "      v1                                                 v2\n",
       "0      0  Go until jurong point, crazy.. Available only ...\n",
       "1      0                      Ok lar... Joking wif u oni...\n",
       "2      1  Free entry in 2 a wkly comp to win FA Cup fina...\n",
       "3      0  U dun say so early hor... U c already then say...\n",
       "4      0  Nah I don't think he goes to usf, he lives aro...\n",
       "...   ..                                                ...\n",
       "5567   1  This is the 2nd time we have tried 2 contact u...\n",
       "5568   0              Will Ì_ b going to esplanade fr home?\n",
       "5569   0  Pity, * was in mood for that. So...any other s...\n",
       "5570   0  The guy did some bitching but I acted like i'd...\n",
       "5571   0                         Rofl. Its true to its name\n",
       "\n",
       "[5169 rows x 2 columns]"
      ]
     },
     "execution_count": 10,
     "metadata": {},
     "output_type": "execute_result"
    }
   ],
   "source": [
    "df"
   ]
  },
  {
   "cell_type": "code",
   "execution_count": 11,
   "id": "36a3cca3",
   "metadata": {
    "execution": {
     "iopub.execute_input": "2024-06-18T08:59:41.887598Z",
     "iopub.status.busy": "2024-06-18T08:59:41.887180Z",
     "iopub.status.idle": "2024-06-18T08:59:41.899132Z",
     "shell.execute_reply": "2024-06-18T08:59:41.897781Z"
    },
    "papermill": {
     "duration": 0.036805,
     "end_time": "2024-06-18T08:59:41.901950",
     "exception": false,
     "start_time": "2024-06-18T08:59:41.865145",
     "status": "completed"
    },
    "tags": []
   },
   "outputs": [
    {
     "data": {
      "text/plain": [
       "v1\n",
       "0    4516\n",
       "1     653\n",
       "Name: count, dtype: int64"
      ]
     },
     "execution_count": 11,
     "metadata": {},
     "output_type": "execute_result"
    }
   ],
   "source": [
    "df['v1'].value_counts()"
   ]
  },
  {
   "cell_type": "code",
   "execution_count": 12,
   "id": "572d6a36",
   "metadata": {
    "execution": {
     "iopub.execute_input": "2024-06-18T08:59:41.945236Z",
     "iopub.status.busy": "2024-06-18T08:59:41.944805Z",
     "iopub.status.idle": "2024-06-18T08:59:42.170405Z",
     "shell.execute_reply": "2024-06-18T08:59:42.169016Z"
    },
    "papermill": {
     "duration": 0.25247,
     "end_time": "2024-06-18T08:59:42.174773",
     "exception": false,
     "start_time": "2024-06-18T08:59:41.922303",
     "status": "completed"
    },
    "tags": []
   },
   "outputs": [
    {
     "name": "stdout",
     "output_type": "stream",
     "text": [
      "[nltk_data] Downloading package stopwords to /usr/share/nltk_data...\n",
      "[nltk_data]   Package stopwords is already up-to-date!\n",
      "[nltk_data] Downloading package punkt to /usr/share/nltk_data...\n",
      "[nltk_data]   Package punkt is already up-to-date!\n"
     ]
    },
    {
     "data": {
      "text/plain": [
       "True"
      ]
     },
     "execution_count": 12,
     "metadata": {},
     "output_type": "execute_result"
    }
   ],
   "source": [
    "nltk.download('stopwords')\n",
    "nltk.download('punkt')"
   ]
  },
  {
   "cell_type": "markdown",
   "id": "53f6f6e2",
   "metadata": {
    "papermill": {
     "duration": 0.021459,
     "end_time": "2024-06-18T08:59:42.223154",
     "exception": false,
     "start_time": "2024-06-18T08:59:42.201695",
     "status": "completed"
    },
    "tags": []
   },
   "source": [
    "<div style=\"background-color: #66bbf1; padding: 20px; border-radius: 10px;\">\n",
    "    <h1 style=\"text-align: left; font-size: 22px;\">Remove special characters and punctuation.\n",
    "Convert text to lowercase.\n",
    "Remove stop words.\n",
    "Perform stemming .</h1>\n",
    "</div>"
   ]
  },
  {
   "cell_type": "code",
   "execution_count": 13,
   "id": "69061ed6",
   "metadata": {
    "execution": {
     "iopub.execute_input": "2024-06-18T08:59:42.265083Z",
     "iopub.status.busy": "2024-06-18T08:59:42.264637Z",
     "iopub.status.idle": "2024-06-18T08:59:46.538253Z",
     "shell.execute_reply": "2024-06-18T08:59:46.536806Z"
    },
    "papermill": {
     "duration": 4.298049,
     "end_time": "2024-06-18T08:59:46.541406",
     "exception": false,
     "start_time": "2024-06-18T08:59:42.243357",
     "status": "completed"
    },
    "tags": []
   },
   "outputs": [],
   "source": [
    "def preprocess_text(text):\n",
    "    text = re.sub(r'\\W', ' ', text)\n",
    "    text = text.lower()\n",
    "    stop_words = set(stopwords.words('english'))\n",
    "    word_tokens = word_tokenize(text)\n",
    "    filtered_text = [word for word in word_tokens if word not in stop_words]\n",
    "    ps = PorterStemmer()\n",
    "    stemmed_text = [ps.stem(word) for word in filtered_text]\n",
    "    return ' '.join(stemmed_text)\n",
    "df['v2'] = df['v2'].apply(preprocess_text)"
   ]
  },
  {
   "cell_type": "markdown",
   "id": "c76741c3",
   "metadata": {
    "papermill": {
     "duration": 0.085231,
     "end_time": "2024-06-18T08:59:46.646891",
     "exception": false,
     "start_time": "2024-06-18T08:59:46.561660",
     "status": "completed"
    },
    "tags": []
   },
   "source": [
    "<a id=\"1\"></a>\n",
    "<div style=\"font-family: Cambria; font-weight: bold; letter-spacing: 0px; color: #ffffff; font-size: 120%; text-align: left; padding: 3px; background-color: #0000ff; border-bottom: 10px solid #80ffff;\">\n",
    "    Splitting data\n",
    "</div>"
   ]
  },
  {
   "cell_type": "code",
   "execution_count": 14,
   "id": "f9b113a7",
   "metadata": {
    "execution": {
     "iopub.execute_input": "2024-06-18T08:59:46.688605Z",
     "iopub.status.busy": "2024-06-18T08:59:46.688194Z",
     "iopub.status.idle": "2024-06-18T08:59:46.700424Z",
     "shell.execute_reply": "2024-06-18T08:59:46.699178Z"
    },
    "papermill": {
     "duration": 0.036389,
     "end_time": "2024-06-18T08:59:46.703367",
     "exception": false,
     "start_time": "2024-06-18T08:59:46.666978",
     "status": "completed"
    },
    "tags": []
   },
   "outputs": [],
   "source": [
    "X = df['v2']\n",
    "y = df['v1']\n",
    "X_train1, X_test1, y_train, y_test = train_test_split(X, y, test_size=0.2, random_state=42)"
   ]
  },
  {
   "cell_type": "code",
   "execution_count": 15,
   "id": "55906517",
   "metadata": {
    "execution": {
     "iopub.execute_input": "2024-06-18T08:59:46.745537Z",
     "iopub.status.busy": "2024-06-18T08:59:46.745146Z",
     "iopub.status.idle": "2024-06-18T08:59:46.867540Z",
     "shell.execute_reply": "2024-06-18T08:59:46.866416Z"
    },
    "papermill": {
     "duration": 0.1478,
     "end_time": "2024-06-18T08:59:46.871052",
     "exception": false,
     "start_time": "2024-06-18T08:59:46.723252",
     "status": "completed"
    },
    "tags": []
   },
   "outputs": [],
   "source": [
    "vectorizer = CountVectorizer()\n",
    "X_train = vectorizer.fit_transform(X_train1)\n",
    "X_test = vectorizer.transform(X_test1)"
   ]
  },
  {
   "cell_type": "code",
   "execution_count": 16,
   "id": "70cedeb8",
   "metadata": {
    "execution": {
     "iopub.execute_input": "2024-06-18T08:59:46.915412Z",
     "iopub.status.busy": "2024-06-18T08:59:46.915036Z",
     "iopub.status.idle": "2024-06-18T08:59:46.922885Z",
     "shell.execute_reply": "2024-06-18T08:59:46.921660Z"
    },
    "papermill": {
     "duration": 0.033645,
     "end_time": "2024-06-18T08:59:46.925421",
     "exception": false,
     "start_time": "2024-06-18T08:59:46.891776",
     "status": "completed"
    },
    "tags": []
   },
   "outputs": [
    {
     "data": {
      "text/plain": [
       "<4135x6354 sparse matrix of type '<class 'numpy.int64'>'\n",
       "\twith 34237 stored elements in Compressed Sparse Row format>"
      ]
     },
     "execution_count": 16,
     "metadata": {},
     "output_type": "execute_result"
    }
   ],
   "source": [
    "X_train"
   ]
  },
  {
   "cell_type": "code",
   "execution_count": 17,
   "id": "b33f0e16",
   "metadata": {
    "execution": {
     "iopub.execute_input": "2024-06-18T08:59:46.968113Z",
     "iopub.status.busy": "2024-06-18T08:59:46.967402Z",
     "iopub.status.idle": "2024-06-18T08:59:46.976917Z",
     "shell.execute_reply": "2024-06-18T08:59:46.975682Z"
    },
    "papermill": {
     "duration": 0.033666,
     "end_time": "2024-06-18T08:59:46.979416",
     "exception": false,
     "start_time": "2024-06-18T08:59:46.945750",
     "status": "completed"
    },
    "tags": []
   },
   "outputs": [
    {
     "data": {
      "text/plain": [
       "2228    0\n",
       "5529    0\n",
       "2149    0\n",
       "5058    1\n",
       "5051    0\n",
       "       ..\n",
       "4740    0\n",
       "474     0\n",
       "3266    0\n",
       "4016    0\n",
       "879     1\n",
       "Name: v1, Length: 4135, dtype: int64"
      ]
     },
     "execution_count": 17,
     "metadata": {},
     "output_type": "execute_result"
    }
   ],
   "source": [
    "y_train"
   ]
  },
  {
   "cell_type": "markdown",
   "id": "170f96d9",
   "metadata": {
    "papermill": {
     "duration": 0.020008,
     "end_time": "2024-06-18T08:59:47.020203",
     "exception": false,
     "start_time": "2024-06-18T08:59:47.000195",
     "status": "completed"
    },
    "tags": []
   },
   "source": [
    "<a id=\"1\"></a>\n",
    "<div style=\"font-family: Cambria; font-weight: bold; letter-spacing: 0px; color: #ffffff; font-size: 120%; text-align: left; padding: 3px; background-color: #0000ff; border-bottom: 10px solid #80ffff;\">\n",
    "    Training and evalution of model\n",
    "</div>"
   ]
  },
  {
   "cell_type": "markdown",
   "id": "1248699d",
   "metadata": {
    "papermill": {
     "duration": 0.020615,
     "end_time": "2024-06-18T08:59:47.061567",
     "exception": false,
     "start_time": "2024-06-18T08:59:47.040952",
     "status": "completed"
    },
    "tags": []
   },
   "source": [
    "<div style=\"background-color: #ff0000; padding: 20px; border-radius: 10px;\">\n",
    "    <h1 style=\"text-align: left; font-size: 25px;\">Naive Bayes classifier\n",
    " </h1>\n",
    "</div>\n"
   ]
  },
  {
   "cell_type": "code",
   "execution_count": 18,
   "id": "9fec3451",
   "metadata": {
    "execution": {
     "iopub.execute_input": "2024-06-18T08:59:47.108862Z",
     "iopub.status.busy": "2024-06-18T08:59:47.107410Z",
     "iopub.status.idle": "2024-06-18T08:59:47.126719Z",
     "shell.execute_reply": "2024-06-18T08:59:47.125552Z"
    },
    "papermill": {
     "duration": 0.04538,
     "end_time": "2024-06-18T08:59:47.129532",
     "exception": false,
     "start_time": "2024-06-18T08:59:47.084152",
     "status": "completed"
    },
    "tags": []
   },
   "outputs": [
    {
     "data": {
      "text/html": [
       "<style>#sk-container-id-1 {color: black;background-color: white;}#sk-container-id-1 pre{padding: 0;}#sk-container-id-1 div.sk-toggleable {background-color: white;}#sk-container-id-1 label.sk-toggleable__label {cursor: pointer;display: block;width: 100%;margin-bottom: 0;padding: 0.3em;box-sizing: border-box;text-align: center;}#sk-container-id-1 label.sk-toggleable__label-arrow:before {content: \"▸\";float: left;margin-right: 0.25em;color: #696969;}#sk-container-id-1 label.sk-toggleable__label-arrow:hover:before {color: black;}#sk-container-id-1 div.sk-estimator:hover label.sk-toggleable__label-arrow:before {color: black;}#sk-container-id-1 div.sk-toggleable__content {max-height: 0;max-width: 0;overflow: hidden;text-align: left;background-color: #f0f8ff;}#sk-container-id-1 div.sk-toggleable__content pre {margin: 0.2em;color: black;border-radius: 0.25em;background-color: #f0f8ff;}#sk-container-id-1 input.sk-toggleable__control:checked~div.sk-toggleable__content {max-height: 200px;max-width: 100%;overflow: auto;}#sk-container-id-1 input.sk-toggleable__control:checked~label.sk-toggleable__label-arrow:before {content: \"▾\";}#sk-container-id-1 div.sk-estimator input.sk-toggleable__control:checked~label.sk-toggleable__label {background-color: #d4ebff;}#sk-container-id-1 div.sk-label input.sk-toggleable__control:checked~label.sk-toggleable__label {background-color: #d4ebff;}#sk-container-id-1 input.sk-hidden--visually {border: 0;clip: rect(1px 1px 1px 1px);clip: rect(1px, 1px, 1px, 1px);height: 1px;margin: -1px;overflow: hidden;padding: 0;position: absolute;width: 1px;}#sk-container-id-1 div.sk-estimator {font-family: monospace;background-color: #f0f8ff;border: 1px dotted black;border-radius: 0.25em;box-sizing: border-box;margin-bottom: 0.5em;}#sk-container-id-1 div.sk-estimator:hover {background-color: #d4ebff;}#sk-container-id-1 div.sk-parallel-item::after {content: \"\";width: 100%;border-bottom: 1px solid gray;flex-grow: 1;}#sk-container-id-1 div.sk-label:hover label.sk-toggleable__label {background-color: #d4ebff;}#sk-container-id-1 div.sk-serial::before {content: \"\";position: absolute;border-left: 1px solid gray;box-sizing: border-box;top: 0;bottom: 0;left: 50%;z-index: 0;}#sk-container-id-1 div.sk-serial {display: flex;flex-direction: column;align-items: center;background-color: white;padding-right: 0.2em;padding-left: 0.2em;position: relative;}#sk-container-id-1 div.sk-item {position: relative;z-index: 1;}#sk-container-id-1 div.sk-parallel {display: flex;align-items: stretch;justify-content: center;background-color: white;position: relative;}#sk-container-id-1 div.sk-item::before, #sk-container-id-1 div.sk-parallel-item::before {content: \"\";position: absolute;border-left: 1px solid gray;box-sizing: border-box;top: 0;bottom: 0;left: 50%;z-index: -1;}#sk-container-id-1 div.sk-parallel-item {display: flex;flex-direction: column;z-index: 1;position: relative;background-color: white;}#sk-container-id-1 div.sk-parallel-item:first-child::after {align-self: flex-end;width: 50%;}#sk-container-id-1 div.sk-parallel-item:last-child::after {align-self: flex-start;width: 50%;}#sk-container-id-1 div.sk-parallel-item:only-child::after {width: 0;}#sk-container-id-1 div.sk-dashed-wrapped {border: 1px dashed gray;margin: 0 0.4em 0.5em 0.4em;box-sizing: border-box;padding-bottom: 0.4em;background-color: white;}#sk-container-id-1 div.sk-label label {font-family: monospace;font-weight: bold;display: inline-block;line-height: 1.2em;}#sk-container-id-1 div.sk-label-container {text-align: center;}#sk-container-id-1 div.sk-container {/* jupyter's `normalize.less` sets `[hidden] { display: none; }` but bootstrap.min.css set `[hidden] { display: none !important; }` so we also need the `!important` here to be able to override the default hidden behavior on the sphinx rendered scikit-learn.org. See: https://github.com/scikit-learn/scikit-learn/issues/21755 */display: inline-block !important;position: relative;}#sk-container-id-1 div.sk-text-repr-fallback {display: none;}</style><div id=\"sk-container-id-1\" class=\"sk-top-container\"><div class=\"sk-text-repr-fallback\"><pre>MultinomialNB()</pre><b>In a Jupyter environment, please rerun this cell to show the HTML representation or trust the notebook. <br />On GitHub, the HTML representation is unable to render, please try loading this page with nbviewer.org.</b></div><div class=\"sk-container\" hidden><div class=\"sk-item\"><div class=\"sk-estimator sk-toggleable\"><input class=\"sk-toggleable__control sk-hidden--visually\" id=\"sk-estimator-id-1\" type=\"checkbox\" checked><label for=\"sk-estimator-id-1\" class=\"sk-toggleable__label sk-toggleable__label-arrow\">MultinomialNB</label><div class=\"sk-toggleable__content\"><pre>MultinomialNB()</pre></div></div></div></div></div>"
      ],
      "text/plain": [
       "MultinomialNB()"
      ]
     },
     "execution_count": 18,
     "metadata": {},
     "output_type": "execute_result"
    }
   ],
   "source": [
    "clf = MultinomialNB()\n",
    "clf.fit(X_train, y_train)"
   ]
  },
  {
   "cell_type": "code",
   "execution_count": 19,
   "id": "57d5aeca",
   "metadata": {
    "execution": {
     "iopub.execute_input": "2024-06-18T08:59:47.172823Z",
     "iopub.status.busy": "2024-06-18T08:59:47.172348Z",
     "iopub.status.idle": "2024-06-18T08:59:47.182583Z",
     "shell.execute_reply": "2024-06-18T08:59:47.181327Z"
    },
    "papermill": {
     "duration": 0.035431,
     "end_time": "2024-06-18T08:59:47.185503",
     "exception": false,
     "start_time": "2024-06-18T08:59:47.150072",
     "status": "completed"
    },
    "tags": []
   },
   "outputs": [],
   "source": [
    "y_pred_train = clf.predict(X_train)\n",
    "y_pred_test = clf.predict(X_test)"
   ]
  },
  {
   "cell_type": "code",
   "execution_count": 20,
   "id": "9c6b165a",
   "metadata": {
    "execution": {
     "iopub.execute_input": "2024-06-18T08:59:47.229487Z",
     "iopub.status.busy": "2024-06-18T08:59:47.229038Z",
     "iopub.status.idle": "2024-06-18T08:59:47.265080Z",
     "shell.execute_reply": "2024-06-18T08:59:47.263381Z"
    },
    "papermill": {
     "duration": 0.062389,
     "end_time": "2024-06-18T08:59:47.268583",
     "exception": false,
     "start_time": "2024-06-18T08:59:47.206194",
     "status": "completed"
    },
    "tags": []
   },
   "outputs": [
    {
     "name": "stdout",
     "output_type": "stream",
     "text": [
      "Training Accuracy: 0.9934703748488513\n",
      "Training Precision: 0.9934561329058047\n",
      "Training Recall: 0.9934703748488513\n",
      "Training F1 Score: 0.9934620557586109\n",
      "Training Confusion Matrix:\n",
      "[[3615   12]\n",
      " [  15  493]]\n"
     ]
    }
   ],
   "source": [
    "train_accuracy = accuracy_score(y_train, y_pred_train)\n",
    "train_precision = precision_score(y_train, y_pred_train, average='weighted')\n",
    "train_recall = recall_score(y_train, y_pred_train, average='weighted')\n",
    "train_f1 = f1_score(y_train, y_pred_train, average='weighted')\n",
    "train_confusion = confusion_matrix(y_train, y_pred_train)\n",
    "test_accuracy = accuracy_score(y_test, y_pred_test)\n",
    "test_precision = precision_score(y_test, y_pred_test, average='weighted')\n",
    "test_recall = recall_score(y_test, y_pred_test, average='weighted')\n",
    "test_f1 = f1_score(y_test, y_pred_test, average='weighted')\n",
    "test_confusion = confusion_matrix(y_test, y_pred_test)\n",
    "\n",
    "print(f\"Training Accuracy: {train_accuracy}\")\n",
    "print(f\"Training Precision: {train_precision}\")\n",
    "print(f\"Training Recall: {train_recall}\")\n",
    "print(f\"Training F1 Score: {train_f1}\")\n",
    "print(\"Training Confusion Matrix:\")\n",
    "print(train_confusion)\n"
   ]
  },
  {
   "cell_type": "code",
   "execution_count": 21,
   "id": "24439c29",
   "metadata": {
    "execution": {
     "iopub.execute_input": "2024-06-18T08:59:47.314026Z",
     "iopub.status.busy": "2024-06-18T08:59:47.313283Z",
     "iopub.status.idle": "2024-06-18T08:59:47.321973Z",
     "shell.execute_reply": "2024-06-18T08:59:47.320274Z"
    },
    "papermill": {
     "duration": 0.034083,
     "end_time": "2024-06-18T08:59:47.324780",
     "exception": false,
     "start_time": "2024-06-18T08:59:47.290697",
     "status": "completed"
    },
    "tags": []
   },
   "outputs": [
    {
     "name": "stdout",
     "output_type": "stream",
     "text": [
      "\n",
      "Testing Accuracy: 0.9825918762088974\n",
      "Testing Precision: 0.9824192012781614\n",
      "Testing Recall: 0.9825918762088974\n",
      "Testing F1 Score: 0.9824372613280711\n",
      "Testing Confusion Matrix:\n",
      "[[883   6]\n",
      " [ 12 133]]\n"
     ]
    }
   ],
   "source": [
    "\n",
    "print(f\"\\nTesting Accuracy: {test_accuracy}\")\n",
    "print(f\"Testing Precision: {test_precision}\")\n",
    "print(f\"Testing Recall: {test_recall}\")\n",
    "print(f\"Testing F1 Score: {test_f1}\")\n",
    "print(\"Testing Confusion Matrix:\")\n",
    "print(test_confusion)"
   ]
  },
  {
   "cell_type": "markdown",
   "id": "679a3f28",
   "metadata": {
    "papermill": {
     "duration": 0.020957,
     "end_time": "2024-06-18T08:59:47.366702",
     "exception": false,
     "start_time": "2024-06-18T08:59:47.345745",
     "status": "completed"
    },
    "tags": []
   },
   "source": [
    "<div style=\"background-color: #ff0000; padding: 20px; border-radius: 10px;\">\n",
    "    <h1 style=\"text-align: left; font-size: 25px;\"> KNN </h1>\n",
    "</div>"
   ]
  },
  {
   "cell_type": "code",
   "execution_count": 22,
   "id": "aefc3182",
   "metadata": {
    "execution": {
     "iopub.execute_input": "2024-06-18T08:59:47.411788Z",
     "iopub.status.busy": "2024-06-18T08:59:47.410544Z",
     "iopub.status.idle": "2024-06-18T08:59:49.795811Z",
     "shell.execute_reply": "2024-06-18T08:59:49.794196Z"
    },
    "papermill": {
     "duration": 2.410725,
     "end_time": "2024-06-18T08:59:49.798841",
     "exception": false,
     "start_time": "2024-06-18T08:59:47.388116",
     "status": "completed"
    },
    "tags": []
   },
   "outputs": [
    {
     "data": {
      "image/png": "[encoded data removed]",
      "text/plain": [
       "<Figure size 1000x600 with 1 Axes>"
      ]
     },
     "metadata": {},
     "output_type": "display_data"
    }
   ],
   "source": [
    "import matplotlib.pyplot as plt\n",
    "from sklearn.neighbors import KNeighborsClassifier\n",
    "from sklearn.metrics import accuracy_score\n",
    "\n",
    "accuracy_values = []\n",
    "max_neighbors = 10  \n",
    "for k in range(1, max_neighbors + 1):\n",
    "    knn = KNeighborsClassifier(n_neighbors=k)\n",
    "    knn.fit(X_train, y_train)\n",
    "    y_pred = knn.predict(X_test)\n",
    "    accuracy = accuracy_score(y_test, y_pred)\n",
    "    accuracy_values.append(accuracy)\n",
    "\n",
    "# Plotting the elbow curve\n",
    "plt.figure(figsize=(10, 6))\n",
    "plt.plot(range(1, max_neighbors + 1), accuracy_values, marker='o')\n",
    "plt.xlabel('Number of Neighbors (k)')\n",
    "plt.ylabel('Accuracy')\n",
    "plt.title('Elbow Method for Optimal k')\n",
    "plt.grid(True)\n",
    "plt.show()\n",
    "\n"
   ]
  },
  {
   "cell_type": "code",
   "execution_count": 23,
   "id": "a5bf17f6",
   "metadata": {
    "execution": {
     "iopub.execute_input": "2024-06-18T08:59:49.846147Z",
     "iopub.status.busy": "2024-06-18T08:59:49.845691Z",
     "iopub.status.idle": "2024-06-18T08:59:49.857758Z",
     "shell.execute_reply": "2024-06-18T08:59:49.856295Z"
    },
    "papermill": {
     "duration": 0.038648,
     "end_time": "2024-06-18T08:59:49.860677",
     "exception": false,
     "start_time": "2024-06-18T08:59:49.822029",
     "status": "completed"
    },
    "tags": []
   },
   "outputs": [
    {
     "data": {
      "text/html": [
       "<style>#sk-container-id-2 {color: black;background-color: white;}#sk-container-id-2 pre{padding: 0;}#sk-container-id-2 div.sk-toggleable {background-color: white;}#sk-container-id-2 label.sk-toggleable__label {cursor: pointer;display: block;width: 100%;margin-bottom: 0;padding: 0.3em;box-sizing: border-box;text-align: center;}#sk-container-id-2 label.sk-toggleable__label-arrow:before {content: \"▸\";float: left;margin-right: 0.25em;color: #696969;}#sk-container-id-2 label.sk-toggleable__label-arrow:hover:before {color: black;}#sk-container-id-2 div.sk-estimator:hover label.sk-toggleable__label-arrow:before {color: black;}#sk-container-id-2 div.sk-toggleable__content {max-height: 0;max-width: 0;overflow: hidden;text-align: left;background-color: #f0f8ff;}#sk-container-id-2 div.sk-toggleable__content pre {margin: 0.2em;color: black;border-radius: 0.25em;background-color: #f0f8ff;}#sk-container-id-2 input.sk-toggleable__control:checked~div.sk-toggleable__content {max-height: 200px;max-width: 100%;overflow: auto;}#sk-container-id-2 input.sk-toggleable__control:checked~label.sk-toggleable__label-arrow:before {content: \"▾\";}#sk-container-id-2 div.sk-estimator input.sk-toggleable__control:checked~label.sk-toggleable__label {background-color: #d4ebff;}#sk-container-id-2 div.sk-label input.sk-toggleable__control:checked~label.sk-toggleable__label {background-color: #d4ebff;}#sk-container-id-2 input.sk-hidden--visually {border: 0;clip: rect(1px 1px 1px 1px);clip: rect(1px, 1px, 1px, 1px);height: 1px;margin: -1px;overflow: hidden;padding: 0;position: absolute;width: 1px;}#sk-container-id-2 div.sk-estimator {font-family: monospace;background-color: #f0f8ff;border: 1px dotted black;border-radius: 0.25em;box-sizing: border-box;margin-bottom: 0.5em;}#sk-container-id-2 div.sk-estimator:hover {background-color: #d4ebff;}#sk-container-id-2 div.sk-parallel-item::after {content: \"\";width: 100%;border-bottom: 1px solid gray;flex-grow: 1;}#sk-container-id-2 div.sk-label:hover label.sk-toggleable__label {background-color: #d4ebff;}#sk-container-id-2 div.sk-serial::before {content: \"\";position: absolute;border-left: 1px solid gray;box-sizing: border-box;top: 0;bottom: 0;left: 50%;z-index: 0;}#sk-container-id-2 div.sk-serial {display: flex;flex-direction: column;align-items: center;background-color: white;padding-right: 0.2em;padding-left: 0.2em;position: relative;}#sk-container-id-2 div.sk-item {position: relative;z-index: 1;}#sk-container-id-2 div.sk-parallel {display: flex;align-items: stretch;justify-content: center;background-color: white;position: relative;}#sk-container-id-2 div.sk-item::before, #sk-container-id-2 div.sk-parallel-item::before {content: \"\";position: absolute;border-left: 1px solid gray;box-sizing: border-box;top: 0;bottom: 0;left: 50%;z-index: -1;}#sk-container-id-2 div.sk-parallel-item {display: flex;flex-direction: column;z-index: 1;position: relative;background-color: white;}#sk-container-id-2 div.sk-parallel-item:first-child::after {align-self: flex-end;width: 50%;}#sk-container-id-2 div.sk-parallel-item:last-child::after {align-self: flex-start;width: 50%;}#sk-container-id-2 div.sk-parallel-item:only-child::after {width: 0;}#sk-container-id-2 div.sk-dashed-wrapped {border: 1px dashed gray;margin: 0 0.4em 0.5em 0.4em;box-sizing: border-box;padding-bottom: 0.4em;background-color: white;}#sk-container-id-2 div.sk-label label {font-family: monospace;font-weight: bold;display: inline-block;line-height: 1.2em;}#sk-container-id-2 div.sk-label-container {text-align: center;}#sk-container-id-2 div.sk-container {/* jupyter's `normalize.less` sets `[hidden] { display: none; }` but bootstrap.min.css set `[hidden] { display: none !important; }` so we also need the `!important` here to be able to override the default hidden behavior on the sphinx rendered scikit-learn.org. See: https://github.com/scikit-learn/scikit-learn/issues/21755 */display: inline-block !important;position: relative;}#sk-container-id-2 div.sk-text-repr-fallback {display: none;}</style><div id=\"sk-container-id-2\" class=\"sk-top-container\"><div class=\"sk-text-repr-fallback\"><pre>KNeighborsClassifier(n_neighbors=3)</pre><b>In a Jupyter environment, please rerun this cell to show the HTML representation or trust the notebook. <br />On GitHub, the HTML representation is unable to render, please try loading this page with nbviewer.org.</b></div><div class=\"sk-container\" hidden><div class=\"sk-item\"><div class=\"sk-estimator sk-toggleable\"><input class=\"sk-toggleable__control sk-hidden--visually\" id=\"sk-estimator-id-2\" type=\"checkbox\" checked><label for=\"sk-estimator-id-2\" class=\"sk-toggleable__label sk-toggleable__label-arrow\">KNeighborsClassifier</label><div class=\"sk-toggleable__content\"><pre>KNeighborsClassifier(n_neighbors=3)</pre></div></div></div></div></div>"
      ],
      "text/plain": [
       "KNeighborsClassifier(n_neighbors=3)"
      ]
     },
     "execution_count": 23,
     "metadata": {},
     "output_type": "execute_result"
    }
   ],
   "source": [
    "# Train the KNN model with the optimal k\n",
    "knn = KNeighborsClassifier(n_neighbors=3)\n",
    "knn.fit(X_train, y_train)\n",
    "\n"
   ]
  },
  {
   "cell_type": "code",
   "execution_count": 24,
   "id": "f104d57f",
   "metadata": {
    "execution": {
     "iopub.execute_input": "2024-06-18T08:59:49.906428Z",
     "iopub.status.busy": "2024-06-18T08:59:49.906040Z",
     "iopub.status.idle": "2024-06-18T08:59:50.908026Z",
     "shell.execute_reply": "2024-06-18T08:59:50.906775Z"
    },
    "papermill": {
     "duration": 1.028197,
     "end_time": "2024-06-18T08:59:50.910845",
     "exception": false,
     "start_time": "2024-06-18T08:59:49.882648",
     "status": "completed"
    },
    "tags": []
   },
   "outputs": [],
   "source": [
    "# Evaluate the model\n",
    "y_pred_train = knn.predict(X_train)\n",
    "y_pred_test = knn.predict(X_test)\n",
    "\n"
   ]
  },
  {
   "cell_type": "code",
   "execution_count": 25,
   "id": "cb933cdd",
   "metadata": {
    "execution": {
     "iopub.execute_input": "2024-06-18T08:59:50.959659Z",
     "iopub.status.busy": "2024-06-18T08:59:50.958008Z",
     "iopub.status.idle": "2024-06-18T08:59:50.995053Z",
     "shell.execute_reply": "2024-06-18T08:59:50.993689Z"
    },
    "papermill": {
     "duration": 0.065492,
     "end_time": "2024-06-18T08:59:50.998024",
     "exception": false,
     "start_time": "2024-06-18T08:59:50.932532",
     "status": "completed"
    },
    "tags": []
   },
   "outputs": [
    {
     "name": "stdout",
     "output_type": "stream",
     "text": [
      "Training Accuracy: 0.9467956469165659\n",
      "Training Precision: 0.949838266536622\n",
      "Training Recall: 0.9467956469165659\n",
      "Training F1 Score: 0.9402263316339666\n",
      "Training Confusion Matrix:\n",
      "[[3627    0]\n",
      " [ 220  288]]\n",
      "\n",
      "Testing Accuracy: 0.9187620889748549\n",
      "Testing Precision: 0.9257754338115581\n",
      "Testing Recall: 0.9187620889748549\n",
      "Testing F1 Score: 0.9040314538199925\n",
      "Testing Confusion Matrix:\n",
      "[[889   0]\n",
      " [ 84  61]]\n"
     ]
    }
   ],
   "source": [
    "train_accuracy = accuracy_score(y_train, y_pred_train)\n",
    "train_precision = precision_score(y_train, y_pred_train, average='weighted')\n",
    "train_recall = recall_score(y_train, y_pred_train, average='weighted')\n",
    "train_f1 = f1_score(y_train, y_pred_train, average='weighted')\n",
    "train_confusion = confusion_matrix(y_train, y_pred_train)\n",
    "test_accuracy = accuracy_score(y_test, y_pred_test)\n",
    "test_precision = precision_score(y_test, y_pred_test, average='weighted')\n",
    "test_recall = recall_score(y_test, y_pred_test, average='weighted')\n",
    "test_f1 = f1_score(y_test, y_pred_test, average='weighted')\n",
    "test_confusion = confusion_matrix(y_test, y_pred_test)\n",
    "\n",
    "print(f\"Training Accuracy: {train_accuracy}\")\n",
    "print(f\"Training Precision: {train_precision}\")\n",
    "print(f\"Training Recall: {train_recall}\")\n",
    "print(f\"Training F1 Score: {train_f1}\")\n",
    "print(\"Training Confusion Matrix:\")\n",
    "print(train_confusion)\n",
    "\n",
    "print(f\"\\nTesting Accuracy: {test_accuracy}\")\n",
    "print(f\"Testing Precision: {test_precision}\")\n",
    "print(f\"Testing Recall: {test_recall}\")\n",
    "print(f\"Testing F1 Score: {test_f1}\")\n",
    "print(\"Testing Confusion Matrix:\")\n",
    "print(test_confusion)"
   ]
  },
  {
   "cell_type": "markdown",
   "id": "955ae90f",
   "metadata": {
    "papermill": {
     "duration": 0.021235,
     "end_time": "2024-06-18T08:59:51.041119",
     "exception": false,
     "start_time": "2024-06-18T08:59:51.019884",
     "status": "completed"
    },
    "tags": []
   },
   "source": [
    "<div style=\"background-color: #ff0000; padding: 20px; border-radius: 10px;\">\n",
    "    <h1 style=\"text-align: left; font-size: 25px;\"> DecisionTree </h1>\n",
    "</div>"
   ]
  },
  {
   "cell_type": "code",
   "execution_count": 26,
   "id": "be270038",
   "metadata": {
    "execution": {
     "iopub.execute_input": "2024-06-18T08:59:51.087643Z",
     "iopub.status.busy": "2024-06-18T08:59:51.087157Z",
     "iopub.status.idle": "2024-06-18T08:59:57.211795Z",
     "shell.execute_reply": "2024-06-18T08:59:57.210405Z"
    },
    "papermill": {
     "duration": 6.151932,
     "end_time": "2024-06-18T08:59:57.214953",
     "exception": false,
     "start_time": "2024-06-18T08:59:51.063021",
     "status": "completed"
    },
    "tags": []
   },
   "outputs": [
    {
     "name": "stdout",
     "output_type": "stream",
     "text": [
      "Fitting 5 folds for each of 36 candidates, totalling 180 fits\n"
     ]
    }
   ],
   "source": [
    "from sklearn.model_selection import train_test_split, GridSearchCV\n",
    "from sklearn.tree import DecisionTreeClassifier, export_graphviz\n",
    "param_grid = {\n",
    "    'max_depth': [3, 5, 7, 9],\n",
    "    'min_samples_split': [2, 5, 10],\n",
    "    'min_samples_leaf': [1, 2, 4]\n",
    "}\n",
    "\n",
    "dt_classifier = DecisionTreeClassifier(random_state=42)\n",
    "grid_search = GridSearchCV(estimator=dt_classifier, param_grid=param_grid, cv=5, scoring='accuracy', verbose=1, n_jobs=-1)\n",
    "grid_search.fit(X_train, y_train)\n",
    "best_params = grid_search.best_estimator_\n",
    "\n"
   ]
  },
  {
   "cell_type": "code",
   "execution_count": 27,
   "id": "738ba5ff",
   "metadata": {
    "execution": {
     "iopub.execute_input": "2024-06-18T08:59:57.262994Z",
     "iopub.status.busy": "2024-06-18T08:59:57.262549Z",
     "iopub.status.idle": "2024-06-18T08:59:57.311961Z",
     "shell.execute_reply": "2024-06-18T08:59:57.310220Z"
    },
    "papermill": {
     "duration": 0.078159,
     "end_time": "2024-06-18T08:59:57.315560",
     "exception": false,
     "start_time": "2024-06-18T08:59:57.237401",
     "status": "completed"
    },
    "tags": []
   },
   "outputs": [
    {
     "name": "stdout",
     "output_type": "stream",
     "text": [
      "Best Hyperparameters: {'max_depth': 9, 'min_samples_leaf': 4, 'min_samples_split': 10}\n"
     ]
    },
    {
     "data": {
      "text/html": [
       "<style>#sk-container-id-3 {color: black;background-color: white;}#sk-container-id-3 pre{padding: 0;}#sk-container-id-3 div.sk-toggleable {background-color: white;}#sk-container-id-3 label.sk-toggleable__label {cursor: pointer;display: block;width: 100%;margin-bottom: 0;padding: 0.3em;box-sizing: border-box;text-align: center;}#sk-container-id-3 label.sk-toggleable__label-arrow:before {content: \"▸\";float: left;margin-right: 0.25em;color: #696969;}#sk-container-id-3 label.sk-toggleable__label-arrow:hover:before {color: black;}#sk-container-id-3 div.sk-estimator:hover label.sk-toggleable__label-arrow:before {color: black;}#sk-container-id-3 div.sk-toggleable__content {max-height: 0;max-width: 0;overflow: hidden;text-align: left;background-color: #f0f8ff;}#sk-container-id-3 div.sk-toggleable__content pre {margin: 0.2em;color: black;border-radius: 0.25em;background-color: #f0f8ff;}#sk-container-id-3 input.sk-toggleable__control:checked~div.sk-toggleable__content {max-height: 200px;max-width: 100%;overflow: auto;}#sk-container-id-3 input.sk-toggleable__control:checked~label.sk-toggleable__label-arrow:before {content: \"▾\";}#sk-container-id-3 div.sk-estimator input.sk-toggleable__control:checked~label.sk-toggleable__label {background-color: #d4ebff;}#sk-container-id-3 div.sk-label input.sk-toggleable__control:checked~label.sk-toggleable__label {background-color: #d4ebff;}#sk-container-id-3 input.sk-hidden--visually {border: 0;clip: rect(1px 1px 1px 1px);clip: rect(1px, 1px, 1px, 1px);height: 1px;margin: -1px;overflow: hidden;padding: 0;position: absolute;width: 1px;}#sk-container-id-3 div.sk-estimator {font-family: monospace;background-color: #f0f8ff;border: 1px dotted black;border-radius: 0.25em;box-sizing: border-box;margin-bottom: 0.5em;}#sk-container-id-3 div.sk-estimator:hover {background-color: #d4ebff;}#sk-container-id-3 div.sk-parallel-item::after {content: \"\";width: 100%;border-bottom: 1px solid gray;flex-grow: 1;}#sk-container-id-3 div.sk-label:hover label.sk-toggleable__label {background-color: #d4ebff;}#sk-container-id-3 div.sk-serial::before {content: \"\";position: absolute;border-left: 1px solid gray;box-sizing: border-box;top: 0;bottom: 0;left: 50%;z-index: 0;}#sk-container-id-3 div.sk-serial {display: flex;flex-direction: column;align-items: center;background-color: white;padding-right: 0.2em;padding-left: 0.2em;position: relative;}#sk-container-id-3 div.sk-item {position: relative;z-index: 1;}#sk-container-id-3 div.sk-parallel {display: flex;align-items: stretch;justify-content: center;background-color: white;position: relative;}#sk-container-id-3 div.sk-item::before, #sk-container-id-3 div.sk-parallel-item::before {content: \"\";position: absolute;border-left: 1px solid gray;box-sizing: border-box;top: 0;bottom: 0;left: 50%;z-index: -1;}#sk-container-id-3 div.sk-parallel-item {display: flex;flex-direction: column;z-index: 1;position: relative;background-color: white;}#sk-container-id-3 div.sk-parallel-item:first-child::after {align-self: flex-end;width: 50%;}#sk-container-id-3 div.sk-parallel-item:last-child::after {align-self: flex-start;width: 50%;}#sk-container-id-3 div.sk-parallel-item:only-child::after {width: 0;}#sk-container-id-3 div.sk-dashed-wrapped {border: 1px dashed gray;margin: 0 0.4em 0.5em 0.4em;box-sizing: border-box;padding-bottom: 0.4em;background-color: white;}#sk-container-id-3 div.sk-label label {font-family: monospace;font-weight: bold;display: inline-block;line-height: 1.2em;}#sk-container-id-3 div.sk-label-container {text-align: center;}#sk-container-id-3 div.sk-container {/* jupyter's `normalize.less` sets `[hidden] { display: none; }` but bootstrap.min.css set `[hidden] { display: none !important; }` so we also need the `!important` here to be able to override the default hidden behavior on the sphinx rendered scikit-learn.org. See: https://github.com/scikit-learn/scikit-learn/issues/21755 */display: inline-block !important;position: relative;}#sk-container-id-3 div.sk-text-repr-fallback {display: none;}</style><div id=\"sk-container-id-3\" class=\"sk-top-container\"><div class=\"sk-text-repr-fallback\"><pre>DecisionTreeClassifier(max_depth=9, min_samples_leaf=4, min_samples_split=10)</pre><b>In a Jupyter environment, please rerun this cell to show the HTML representation or trust the notebook. <br />On GitHub, the HTML representation is unable to render, please try loading this page with nbviewer.org.</b></div><div class=\"sk-container\" hidden><div class=\"sk-item\"><div class=\"sk-estimator sk-toggleable\"><input class=\"sk-toggleable__control sk-hidden--visually\" id=\"sk-estimator-id-3\" type=\"checkbox\" checked><label for=\"sk-estimator-id-3\" class=\"sk-toggleable__label sk-toggleable__label-arrow\">DecisionTreeClassifier</label><div class=\"sk-toggleable__content\"><pre>DecisionTreeClassifier(max_depth=9, min_samples_leaf=4, min_samples_split=10)</pre></div></div></div></div></div>"
      ],
      "text/plain": [
       "DecisionTreeClassifier(max_depth=9, min_samples_leaf=4, min_samples_split=10)"
      ]
     },
     "execution_count": 27,
     "metadata": {},
     "output_type": "execute_result"
    }
   ],
   "source": [
    "best_params = grid_search.best_params_\n",
    "print(\"Best Hyperparameters:\", best_params)\n",
    "best_dt_regressor = DecisionTreeClassifier(**best_params)\n",
    "best_dt_regressor.fit(X_train, y_train)\n",
    "\n",
    "\n"
   ]
  },
  {
   "cell_type": "code",
   "execution_count": 28,
   "id": "e1fa051c",
   "metadata": {
    "execution": {
     "iopub.execute_input": "2024-06-18T08:59:57.366888Z",
     "iopub.status.busy": "2024-06-18T08:59:57.366464Z",
     "iopub.status.idle": "2024-06-18T08:59:57.376300Z",
     "shell.execute_reply": "2024-06-18T08:59:57.375170Z"
    },
    "papermill": {
     "duration": 0.039224,
     "end_time": "2024-06-18T08:59:57.380097",
     "exception": false,
     "start_time": "2024-06-18T08:59:57.340873",
     "status": "completed"
    },
    "tags": []
   },
   "outputs": [],
   "source": [
    "y_pred_train = best_dt_regressor.predict(X_train)\n",
    "y_pred_test = best_dt_regressor.predict(X_test)\n",
    "\n"
   ]
  },
  {
   "cell_type": "code",
   "execution_count": 29,
   "id": "ebde91b6",
   "metadata": {
    "execution": {
     "iopub.execute_input": "2024-06-18T08:59:57.429832Z",
     "iopub.status.busy": "2024-06-18T08:59:57.429367Z",
     "iopub.status.idle": "2024-06-18T08:59:57.465364Z",
     "shell.execute_reply": "2024-06-18T08:59:57.463737Z"
    },
    "papermill": {
     "duration": 0.063092,
     "end_time": "2024-06-18T08:59:57.468424",
     "exception": false,
     "start_time": "2024-06-18T08:59:57.405332",
     "status": "completed"
    },
    "tags": []
   },
   "outputs": [
    {
     "name": "stdout",
     "output_type": "stream",
     "text": [
      "Training Accuracy: 0.966384522370012\n",
      "Training Precision: 0.9658828935917202\n",
      "Training Recall: 0.966384522370012\n",
      "Training F1 Score: 0.9648680975416266\n",
      "Training Confusion Matrix:\n",
      "[[3605   22]\n",
      " [ 117  391]]\n"
     ]
    }
   ],
   "source": [
    "train_accuracy = accuracy_score(y_train, y_pred_train)\n",
    "train_precision = precision_score(y_train, y_pred_train, average='weighted')\n",
    "train_recall = recall_score(y_train, y_pred_train, average='weighted')\n",
    "train_f1 = f1_score(y_train, y_pred_train, average='weighted')\n",
    "train_confusion = confusion_matrix(y_train, y_pred_train)\n",
    "test_accuracy = accuracy_score(y_test, y_pred_test)\n",
    "test_precision = precision_score(y_test, y_pred_test, average='weighted')\n",
    "test_recall = recall_score(y_test, y_pred_test, average='weighted')\n",
    "test_f1 = f1_score(y_test, y_pred_test, average='weighted')\n",
    "test_confusion = confusion_matrix(y_test, y_pred_test)\n",
    "\n",
    "print(f\"Training Accuracy: {train_accuracy}\")\n",
    "print(f\"Training Precision: {train_precision}\")\n",
    "print(f\"Training Recall: {train_recall}\")\n",
    "print(f\"Training F1 Score: {train_f1}\")\n",
    "print(\"Training Confusion Matrix:\")\n",
    "print(train_confusion)"
   ]
  },
  {
   "cell_type": "code",
   "execution_count": 30,
   "id": "2ccf6b7c",
   "metadata": {
    "execution": {
     "iopub.execute_input": "2024-06-18T08:59:57.516170Z",
     "iopub.status.busy": "2024-06-18T08:59:57.515755Z",
     "iopub.status.idle": "2024-06-18T08:59:57.524097Z",
     "shell.execute_reply": "2024-06-18T08:59:57.521811Z"
    },
    "papermill": {
     "duration": 0.036662,
     "end_time": "2024-06-18T08:59:57.527813",
     "exception": false,
     "start_time": "2024-06-18T08:59:57.491151",
     "status": "completed"
    },
    "tags": []
   },
   "outputs": [
    {
     "name": "stdout",
     "output_type": "stream",
     "text": [
      "\n",
      "Testing Accuracy: 0.960348162475822\n",
      "Testing Precision: 0.9597683641110825\n",
      "Testing Recall: 0.960348162475822\n",
      "Testing F1 Score: 0.9586093669843361\n",
      "Testing Confusion Matrix:\n",
      "[[882   7]\n",
      " [ 34 111]]\n"
     ]
    }
   ],
   "source": [
    "print(f\"\\nTesting Accuracy: {test_accuracy}\")\n",
    "print(f\"Testing Precision: {test_precision}\")\n",
    "print(f\"Testing Recall: {test_recall}\")\n",
    "print(f\"Testing F1 Score: {test_f1}\")\n",
    "print(\"Testing Confusion Matrix:\")\n",
    "print(test_confusion)"
   ]
  },
  {
   "cell_type": "markdown",
   "id": "2518e27f",
   "metadata": {
    "papermill": {
     "duration": 0.022876,
     "end_time": "2024-06-18T08:59:57.573968",
     "exception": false,
     "start_time": "2024-06-18T08:59:57.551092",
     "status": "completed"
    },
    "tags": []
   },
   "source": [
    "<div style=\"background-color: #ff0000; padding: 20px; border-radius: 10px;\">\n",
    "    <h1 style=\"text-align: left; font-size: 25px;\"> RandomForest </h1>\n",
    "</div>"
   ]
  },
  {
   "cell_type": "code",
   "execution_count": 31,
   "id": "1e86d10c",
   "metadata": {
    "execution": {
     "iopub.execute_input": "2024-06-18T08:59:57.623286Z",
     "iopub.status.busy": "2024-06-18T08:59:57.622852Z",
     "iopub.status.idle": "2024-06-18T09:06:38.269634Z",
     "shell.execute_reply": "2024-06-18T09:06:38.268164Z"
    },
    "papermill": {
     "duration": 400.674954,
     "end_time": "2024-06-18T09:06:38.273163",
     "exception": false,
     "start_time": "2024-06-18T08:59:57.598209",
     "status": "completed"
    },
    "tags": []
   },
   "outputs": [
    {
     "name": "stdout",
     "output_type": "stream",
     "text": [
      "Fitting 5 folds for each of 81 candidates, totalling 405 fits\n"
     ]
    }
   ],
   "source": [
    "from sklearn.ensemble import RandomForestClassifier\n",
    "param_grid = {\n",
    "    'n_estimators': [100, 200, 300],\n",
    "    'max_depth': [None, 5, 10],\n",
    "    'min_samples_split': [2, 5, 10],\n",
    "    'min_samples_leaf': [1, 2, 4]\n",
    "}\n",
    "rf_classifier = RandomForestClassifier(random_state=42)\n",
    "grid_search = GridSearchCV(estimator=rf_classifier, param_grid=param_grid, cv=5, scoring='accuracy', verbose=1, n_jobs=-1)\n",
    "grid_search.fit(X_train, y_train)\n",
    "best_classifier = grid_search.best_estimator_\n",
    "\n",
    "\n"
   ]
  },
  {
   "cell_type": "code",
   "execution_count": 32,
   "id": "bcb1e3d5",
   "metadata": {
    "execution": {
     "iopub.execute_input": "2024-06-18T09:06:38.323117Z",
     "iopub.status.busy": "2024-06-18T09:06:38.322713Z",
     "iopub.status.idle": "2024-06-18T09:06:41.743197Z",
     "shell.execute_reply": "2024-06-18T09:06:41.741798Z"
    },
    "papermill": {
     "duration": 3.448566,
     "end_time": "2024-06-18T09:06:41.746554",
     "exception": false,
     "start_time": "2024-06-18T09:06:38.297988",
     "status": "completed"
    },
    "tags": []
   },
   "outputs": [
    {
     "name": "stdout",
     "output_type": "stream",
     "text": [
      "Best Hyperparameters: {'max_depth': None, 'min_samples_leaf': 1, 'min_samples_split': 10, 'n_estimators': 300}\n"
     ]
    },
    {
     "data": {
      "text/html": [
       "<style>#sk-container-id-4 {color: black;background-color: white;}#sk-container-id-4 pre{padding: 0;}#sk-container-id-4 div.sk-toggleable {background-color: white;}#sk-container-id-4 label.sk-toggleable__label {cursor: pointer;display: block;width: 100%;margin-bottom: 0;padding: 0.3em;box-sizing: border-box;text-align: center;}#sk-container-id-4 label.sk-toggleable__label-arrow:before {content: \"▸\";float: left;margin-right: 0.25em;color: #696969;}#sk-container-id-4 label.sk-toggleable__label-arrow:hover:before {color: black;}#sk-container-id-4 div.sk-estimator:hover label.sk-toggleable__label-arrow:before {color: black;}#sk-container-id-4 div.sk-toggleable__content {max-height: 0;max-width: 0;overflow: hidden;text-align: left;background-color: #f0f8ff;}#sk-container-id-4 div.sk-toggleable__content pre {margin: 0.2em;color: black;border-radius: 0.25em;background-color: #f0f8ff;}#sk-container-id-4 input.sk-toggleable__control:checked~div.sk-toggleable__content {max-height: 200px;max-width: 100%;overflow: auto;}#sk-container-id-4 input.sk-toggleable__control:checked~label.sk-toggleable__label-arrow:before {content: \"▾\";}#sk-container-id-4 div.sk-estimator input.sk-toggleable__control:checked~label.sk-toggleable__label {background-color: #d4ebff;}#sk-container-id-4 div.sk-label input.sk-toggleable__control:checked~label.sk-toggleable__label {background-color: #d4ebff;}#sk-container-id-4 input.sk-hidden--visually {border: 0;clip: rect(1px 1px 1px 1px);clip: rect(1px, 1px, 1px, 1px);height: 1px;margin: -1px;overflow: hidden;padding: 0;position: absolute;width: 1px;}#sk-container-id-4 div.sk-estimator {font-family: monospace;background-color: #f0f8ff;border: 1px dotted black;border-radius: 0.25em;box-sizing: border-box;margin-bottom: 0.5em;}#sk-container-id-4 div.sk-estimator:hover {background-color: #d4ebff;}#sk-container-id-4 div.sk-parallel-item::after {content: \"\";width: 100%;border-bottom: 1px solid gray;flex-grow: 1;}#sk-container-id-4 div.sk-label:hover label.sk-toggleable__label {background-color: #d4ebff;}#sk-container-id-4 div.sk-serial::before {content: \"\";position: absolute;border-left: 1px solid gray;box-sizing: border-box;top: 0;bottom: 0;left: 50%;z-index: 0;}#sk-container-id-4 div.sk-serial {display: flex;flex-direction: column;align-items: center;background-color: white;padding-right: 0.2em;padding-left: 0.2em;position: relative;}#sk-container-id-4 div.sk-item {position: relative;z-index: 1;}#sk-container-id-4 div.sk-parallel {display: flex;align-items: stretch;justify-content: center;background-color: white;position: relative;}#sk-container-id-4 div.sk-item::before, #sk-container-id-4 div.sk-parallel-item::before {content: \"\";position: absolute;border-left: 1px solid gray;box-sizing: border-box;top: 0;bottom: 0;left: 50%;z-index: -1;}#sk-container-id-4 div.sk-parallel-item {display: flex;flex-direction: column;z-index: 1;position: relative;background-color: white;}#sk-container-id-4 div.sk-parallel-item:first-child::after {align-self: flex-end;width: 50%;}#sk-container-id-4 div.sk-parallel-item:last-child::after {align-self: flex-start;width: 50%;}#sk-container-id-4 div.sk-parallel-item:only-child::after {width: 0;}#sk-container-id-4 div.sk-dashed-wrapped {border: 1px dashed gray;margin: 0 0.4em 0.5em 0.4em;box-sizing: border-box;padding-bottom: 0.4em;background-color: white;}#sk-container-id-4 div.sk-label label {font-family: monospace;font-weight: bold;display: inline-block;line-height: 1.2em;}#sk-container-id-4 div.sk-label-container {text-align: center;}#sk-container-id-4 div.sk-container {/* jupyter's `normalize.less` sets `[hidden] { display: none; }` but bootstrap.min.css set `[hidden] { display: none !important; }` so we also need the `!important` here to be able to override the default hidden behavior on the sphinx rendered scikit-learn.org. See: https://github.com/scikit-learn/scikit-learn/issues/21755 */display: inline-block !important;position: relative;}#sk-container-id-4 div.sk-text-repr-fallback {display: none;}</style><div id=\"sk-container-id-4\" class=\"sk-top-container\"><div class=\"sk-text-repr-fallback\"><pre>RandomForestClassifier(min_samples_split=10, n_estimators=300)</pre><b>In a Jupyter environment, please rerun this cell to show the HTML representation or trust the notebook. <br />On GitHub, the HTML representation is unable to render, please try loading this page with nbviewer.org.</b></div><div class=\"sk-container\" hidden><div class=\"sk-item\"><div class=\"sk-estimator sk-toggleable\"><input class=\"sk-toggleable__control sk-hidden--visually\" id=\"sk-estimator-id-4\" type=\"checkbox\" checked><label for=\"sk-estimator-id-4\" class=\"sk-toggleable__label sk-toggleable__label-arrow\">RandomForestClassifier</label><div class=\"sk-toggleable__content\"><pre>RandomForestClassifier(min_samples_split=10, n_estimators=300)</pre></div></div></div></div></div>"
      ],
      "text/plain": [
       "RandomForestClassifier(min_samples_split=10, n_estimators=300)"
      ]
     },
     "execution_count": 32,
     "metadata": {},
     "output_type": "execute_result"
    }
   ],
   "source": [
    "best_params = grid_search.best_params_\n",
    "print(\"Best Hyperparameters:\", best_params)\n",
    "best_rf_regressor = RandomForestClassifier(**best_params)\n",
    "best_rf_regressor.fit(X_train, y_train)\n",
    "\n"
   ]
  },
  {
   "cell_type": "code",
   "execution_count": 33,
   "id": "b42ef60c",
   "metadata": {
    "execution": {
     "iopub.execute_input": "2024-06-18T09:06:41.809111Z",
     "iopub.status.busy": "2024-06-18T09:06:41.808129Z",
     "iopub.status.idle": "2024-06-18T09:06:41.855344Z",
     "shell.execute_reply": "2024-06-18T09:06:41.853922Z"
    },
    "papermill": {
     "duration": 0.083255,
     "end_time": "2024-06-18T09:06:41.859331",
     "exception": false,
     "start_time": "2024-06-18T09:06:41.776076",
     "status": "completed"
    },
    "tags": []
   },
   "outputs": [
    {
     "name": "stdout",
     "output_type": "stream",
     "text": [
      "Training Accuracy: 0.966384522370012\n",
      "Training Precision: 0.9658828935917202\n",
      "Training Recall: 0.966384522370012\n",
      "Training F1 Score: 0.9648680975416266\n",
      "Training Confusion Matrix:\n",
      "[[3605   22]\n",
      " [ 117  391]]\n"
     ]
    }
   ],
   "source": [
    "train_accuracy = accuracy_score(y_train, y_pred_train)\n",
    "train_precision = precision_score(y_train, y_pred_train, average='weighted')\n",
    "train_recall = recall_score(y_train, y_pred_train, average='weighted')\n",
    "train_f1 = f1_score(y_train, y_pred_train, average='weighted')\n",
    "train_confusion = confusion_matrix(y_train, y_pred_train)\n",
    "test_accuracy = accuracy_score(y_test, y_pred_test)\n",
    "test_precision = precision_score(y_test, y_pred_test, average='weighted')\n",
    "test_recall = recall_score(y_test, y_pred_test, average='weighted')\n",
    "test_f1 = f1_score(y_test, y_pred_test, average='weighted')\n",
    "test_confusion = confusion_matrix(y_test, y_pred_test)\n",
    "\n",
    "print(f\"Training Accuracy: {train_accuracy}\")\n",
    "print(f\"Training Precision: {train_precision}\")\n",
    "print(f\"Training Recall: {train_recall}\")\n",
    "print(f\"Training F1 Score: {train_f1}\")\n",
    "print(\"Training Confusion Matrix:\")\n",
    "print(train_confusion)\n"
   ]
  },
  {
   "cell_type": "code",
   "execution_count": 34,
   "id": "0b4bb156",
   "metadata": {
    "execution": {
     "iopub.execute_input": "2024-06-18T09:06:41.914287Z",
     "iopub.status.busy": "2024-06-18T09:06:41.913775Z",
     "iopub.status.idle": "2024-06-18T09:06:41.922732Z",
     "shell.execute_reply": "2024-06-18T09:06:41.921222Z"
    },
    "papermill": {
     "duration": 0.037611,
     "end_time": "2024-06-18T09:06:41.925666",
     "exception": false,
     "start_time": "2024-06-18T09:06:41.888055",
     "status": "completed"
    },
    "tags": []
   },
   "outputs": [
    {
     "name": "stdout",
     "output_type": "stream",
     "text": [
      "\n",
      "Testing Accuracy: 0.960348162475822\n",
      "Testing Precision: 0.9597683641110825\n",
      "Testing Recall: 0.960348162475822\n",
      "Testing F1 Score: 0.9586093669843361\n",
      "Testing Confusion Matrix:\n",
      "[[882   7]\n",
      " [ 34 111]]\n"
     ]
    }
   ],
   "source": [
    "\n",
    "print(f\"\\nTesting Accuracy: {test_accuracy}\")\n",
    "print(f\"Testing Precision: {test_precision}\")\n",
    "print(f\"Testing Recall: {test_recall}\")\n",
    "print(f\"Testing F1 Score: {test_f1}\")\n",
    "print(\"Testing Confusion Matrix:\")\n",
    "print(test_confusion)"
   ]
  },
  {
   "cell_type": "markdown",
   "id": "d3c73612",
   "metadata": {
    "papermill": {
     "duration": 0.023868,
     "end_time": "2024-06-18T09:06:41.978287",
     "exception": false,
     "start_time": "2024-06-18T09:06:41.954419",
     "status": "completed"
    },
    "tags": []
   },
   "source": [
    "<a id=\"1\"></a>\n",
    "<div style=\"font-family: Cambria; font-weight: bold; letter-spacing: 0px; color: #ffffff; font-size: 120%; text-align: left; padding: 3px; background-color: #0000ff; border-bottom: 10px solid #80ffff;\">\n",
    "    Model comparison\n",
    "</div>"
   ]
  },
  {
   "cell_type": "code",
   "execution_count": 35,
   "id": "366887dd",
   "metadata": {
    "execution": {
     "iopub.execute_input": "2024-06-18T09:06:42.032898Z",
     "iopub.status.busy": "2024-06-18T09:06:42.032302Z",
     "iopub.status.idle": "2024-06-18T09:06:44.914122Z",
     "shell.execute_reply": "2024-06-18T09:06:44.912720Z"
    },
    "papermill": {
     "duration": 2.90969,
     "end_time": "2024-06-18T09:06:44.916919",
     "exception": false,
     "start_time": "2024-06-18T09:06:42.007229",
     "status": "completed"
    },
    "tags": []
   },
   "outputs": [
    {
     "data": {
      "text/html": [
       "<div>\n",
       "<style scoped>\n",
       "    .dataframe tbody tr th:only-of-type {\n",
       "        vertical-align: middle;\n",
       "    }\n",
       "\n",
       "    .dataframe tbody tr th {\n",
       "        vertical-align: top;\n",
       "    }\n",
       "\n",
       "    .dataframe thead th {\n",
       "        text-align: right;\n",
       "    }\n",
       "</style>\n",
       "<table border=\"1\" class=\"dataframe\">\n",
       "  <thead>\n",
       "    <tr style=\"text-align: right;\">\n",
       "      <th></th>\n",
       "      <th>Model</th>\n",
       "      <th>Train Accuracy</th>\n",
       "      <th>Test Accuracy</th>\n",
       "      <th>Test Precision</th>\n",
       "      <th>Test Recall</th>\n",
       "      <th>Test F1 Score</th>\n",
       "    </tr>\n",
       "  </thead>\n",
       "  <tbody>\n",
       "    <tr>\n",
       "      <th>0</th>\n",
       "      <td>Naive Bayes</td>\n",
       "      <td>0.993470</td>\n",
       "      <td>0.982592</td>\n",
       "      <td>0.982419</td>\n",
       "      <td>0.982592</td>\n",
       "      <td>0.982437</td>\n",
       "    </tr>\n",
       "    <tr>\n",
       "      <th>1</th>\n",
       "      <td>Random Forest</td>\n",
       "      <td>1.000000</td>\n",
       "      <td>0.977756</td>\n",
       "      <td>0.978317</td>\n",
       "      <td>0.977756</td>\n",
       "      <td>0.976940</td>\n",
       "    </tr>\n",
       "    <tr>\n",
       "      <th>2</th>\n",
       "      <td>Decision Tree</td>\n",
       "      <td>1.000000</td>\n",
       "      <td>0.969052</td>\n",
       "      <td>0.968490</td>\n",
       "      <td>0.969052</td>\n",
       "      <td>0.968586</td>\n",
       "    </tr>\n",
       "    <tr>\n",
       "      <th>3</th>\n",
       "      <td>K-Nearest Neighbors</td>\n",
       "      <td>0.924063</td>\n",
       "      <td>0.907157</td>\n",
       "      <td>0.916205</td>\n",
       "      <td>0.907157</td>\n",
       "      <td>0.886563</td>\n",
       "    </tr>\n",
       "  </tbody>\n",
       "</table>\n",
       "</div>"
      ],
      "text/plain": [
       "                 Model  Train Accuracy  Test Accuracy  Test Precision  \\\n",
       "0          Naive Bayes        0.993470       0.982592        0.982419   \n",
       "1        Random Forest        1.000000       0.977756        0.978317   \n",
       "2        Decision Tree        1.000000       0.969052        0.968490   \n",
       "3  K-Nearest Neighbors        0.924063       0.907157        0.916205   \n",
       "\n",
       "   Test Recall  Test F1 Score  \n",
       "0     0.982592       0.982437  \n",
       "1     0.977756       0.976940  \n",
       "2     0.969052       0.968586  \n",
       "3     0.907157       0.886563  "
      ]
     },
     "execution_count": 35,
     "metadata": {},
     "output_type": "execute_result"
    }
   ],
   "source": [
    "models = {\n",
    "    \"Naive Bayes\" : MultinomialNB(),\n",
    "    \"Random Forest\": RandomForestClassifier(random_state=42),\n",
    "    \"Decision Tree\": DecisionTreeClassifier(random_state=42),\n",
    "    \"K-Nearest Neighbors\": KNeighborsClassifier()\n",
    "}\n",
    "results = []\n",
    "for model_name, model in models.items():\n",
    "    model.fit(X_train, y_train)\n",
    "    y_pred_train = model.predict(X_train)\n",
    "    y_pred_test = model.predict(X_test)\n",
    "    \n",
    "    train_accuracy = accuracy_score(y_train, y_pred_train)\n",
    "    test_accuracy = accuracy_score(y_test, y_pred_test)\n",
    "    test_precision = precision_score(y_test, y_pred_test, average='weighted')\n",
    "    test_recall = recall_score(y_test, y_pred_test, average='weighted')\n",
    "    test_f1 = f1_score(y_test, y_pred_test, average='weighted')\n",
    "    \n",
    "    results.append({\n",
    "        \"Model\": model_name,\n",
    "        \"Train Accuracy\": train_accuracy,\n",
    "        \"Test Accuracy\": test_accuracy,\n",
    "        \"Test Precision\": test_precision,\n",
    "        \"Test Recall\": test_recall,\n",
    "        \"Test F1 Score\": test_f1\n",
    "    })\n",
    "results_df = pd.DataFrame(results)\n",
    "results_df\n"
   ]
  },
  {
   "cell_type": "markdown",
   "id": "aed68ae0",
   "metadata": {
    "papermill": {
     "duration": 0.023494,
     "end_time": "2024-06-18T09:06:44.965030",
     "exception": false,
     "start_time": "2024-06-18T09:06:44.941536",
     "status": "completed"
    },
    "tags": []
   },
   "source": [
    "<a id=\"1\"></a>\n",
    "<div style=\"font-family: Cambria; font-weight: bold; letter-spacing: 0px; color: #ffffff; font-size: 120%; text-align: left; padding: 3px; background-color: #0000ff; border-bottom: 10px solid #80ffff;\">\n",
    "    Conclusion\n",
    "</div>"
   ]
  },
  {
   "cell_type": "markdown",
   "id": "02d750ac",
   "metadata": {
    "papermill": {
     "duration": 0.023265,
     "end_time": "2024-06-18T09:06:45.012000",
     "exception": false,
     "start_time": "2024-06-18T09:06:44.988735",
     "status": "completed"
    },
    "tags": []
   },
   "source": [
    "<div style=\"background-color: #66bbf1; padding: 20px; border-radius: 10px;\">\n",
    "    <h1 style=\"text-align: left; font-size: 22px;\">Naive Bayes shows excellent performance with high accuracy on both training and test sets. The precision, recall, and F1 score are all very close to each other, indicating a well-balanced model that performs consistently well on the test data.</h1>\n",
    "</div>"
   ]
  },
  {
   "cell_type": "markdown",
   "id": "0e017625",
   "metadata": {
    "papermill": {
     "duration": 0.02323,
     "end_time": "2024-06-18T09:06:45.058996",
     "exception": false,
     "start_time": "2024-06-18T09:06:45.035766",
     "status": "completed"
    },
    "tags": []
   },
   "source": [
    "<div style=\"background-color: #ff0000; padding: 20px; border-radius: 10px;\">\n",
    "    <h1 style=\"text-align: left; font-size: 25px;\"> Deployment </h1>\n",
    "* </div>"
   ]
  },
  {
   "cell_type": "markdown",
   "id": "3a739170",
   "metadata": {
    "papermill": {
     "duration": 0.023342,
     "end_time": "2024-06-18T09:06:45.105986",
     "exception": false,
     "start_time": "2024-06-18T09:06:45.082644",
     "status": "completed"
    },
    "tags": []
   },
   "source": [
    "<div style=\"background-color: #66bbf1; padding: 20px; border-radius: 10px;\">\n",
    "    <h1 style=\"text-align: left; font-size: 22px;\"> step 1 : Save a trained model and a scaler vectorizer using the pickle module. </h1>\n",
    "</div>"
   ]
  },
  {
   "cell_type": "markdown",
   "id": "1e24f578",
   "metadata": {
    "papermill": {
     "duration": 0.023229,
     "end_time": "2024-06-18T09:06:45.153165",
     "exception": false,
     "start_time": "2024-06-18T09:06:45.129936",
     "status": "completed"
    },
    "tags": []
   },
   "source": [
    "<div style=\"background-color: #66bbf1; padding: 20px; border-radius: 10px;\">\n",
    "    <h1 style=\"text-align: left; font-size: 22px;\">Step 2 : create requirement.txt for accessing all libraries </h1>\n",
    "</div>"
   ]
  },
  {
   "cell_type": "code",
   "execution_count": 36,
   "id": "bcee44e0",
   "metadata": {
    "execution": {
     "iopub.execute_input": "2024-06-18T09:06:45.204779Z",
     "iopub.status.busy": "2024-06-18T09:06:45.202927Z",
     "iopub.status.idle": "2024-06-18T09:06:45.212798Z",
     "shell.execute_reply": "2024-06-18T09:06:45.211225Z"
    },
    "papermill": {
     "duration": 0.039332,
     "end_time": "2024-06-18T09:06:45.215754",
     "exception": false,
     "start_time": "2024-06-18T09:06:45.176422",
     "status": "completed"
    },
    "tags": []
   },
   "outputs": [
    {
     "data": {
      "text/plain": [
       "'\\nstreamlit==1.29.0\\npandas==2.1.4\\nscikit-learn==1.4.2\\npillow==10.2.0\\nnltk==3.8.1\\n'"
      ]
     },
     "execution_count": 36,
     "metadata": {},
     "output_type": "execute_result"
    }
   ],
   "source": [
    "'''\n",
    "streamlit==1.29.0\n",
    "pandas==2.1.4\n",
    "scikit-learn==1.4.2\n",
    "pillow==10.2.0\n",
    "nltk==3.8.1\n",
    "'''"
   ]
  },
  {
   "cell_type": "markdown",
   "id": "b26503dd",
   "metadata": {
    "papermill": {
     "duration": 0.026184,
     "end_time": "2024-06-18T09:06:45.268189",
     "exception": false,
     "start_time": "2024-06-18T09:06:45.242005",
     "status": "completed"
    },
    "tags": []
   },
   "source": [
    "<div style=\"background-color: #66bbf1; padding: 20px; border-radius: 10px;\">\n",
    "    <h1 style=\"text-align: left; font-size: 22px;\">Step 3 : create app.py </h1>\n",
    "</div>"
   ]
  },
  {
   "cell_type": "code",
   "execution_count": 37,
   "id": "b6cd70c1",
   "metadata": {
    "execution": {
     "iopub.execute_input": "2024-06-18T09:06:45.321385Z",
     "iopub.status.busy": "2024-06-18T09:06:45.320940Z",
     "iopub.status.idle": "2024-06-18T09:06:45.333165Z",
     "shell.execute_reply": "2024-06-18T09:06:45.331681Z"
    },
    "papermill": {
     "duration": 0.043634,
     "end_time": "2024-06-18T09:06:45.336471",
     "exception": false,
     "start_time": "2024-06-18T09:06:45.292837",
     "status": "completed"
    },
    "tags": []
   },
   "outputs": [
    {
     "data": {
      "text/plain": [
       "'\\nimport streamlit as st\\nimport pandas as pd\\nimport pickle\\nimport streamlit as st\\nimport pickle\\nimport string\\nfrom nltk.corpus import stopwords\\nimport nltk\\nfrom nltk.stem.porter import PorterStemmer\\n\\n\\nhtml_attribution = \"\"\"\\n    <div style=\"background-color:#28a745;padding:20px;margin-bottom:20px\">\\n    <p style=\"color:white;text-align:center;font-size:22px;\">Developed by Pruthvik Machhi</p>\\n    </div>\\n    \"\"\"\\nst.markdown(html_attribution, unsafe_allow_html=True)\\n\\nhtml_temp_subtitle = \"\"\"\\n    <div style=\"background-color:#ff6347;padding:10px;margin-bottom:20px\">\\n    <h2 style=\"color:white;text-align:center;\">SPAM Detection</h2>\\n    </div>\\n    \"\"\"\\nst.markdown(html_temp_subtitle, unsafe_allow_html=True)\\n\\nst.subheader(\\'Enter Text\\')\\n\\n\\nps = PorterStemmer()\\ndef transform_text(text):\\n    text = text.lower()\\n    text = nltk.word_tokenize(text)\\n\\n    y = []\\n    for i in text:\\n        if i.isalnum():\\n            y.append(i)\\n\\n    text = y[:]\\n    y.clear()\\n\\n    for i in text:\\n        if i not in stopwords.words(\\'english\\') and i not in string.punctuation:\\n            y.append(i)\\n\\n    text = y[:]\\n    y.clear()\\n\\n    for i in text:\\n        y.append(ps.stem(i))\\n\\n    return \" \".join(y)\\n\\n\\ntfidf = pickle.load(open(\\'vectorizer2.pkl\\',\\'rb\\'))\\nmodel = pickle.load(open(\\'model3b.pkl\\',\\'rb\\'))\\n\\nst.title(\"SMS Spam Classifier\")\\n\\ninput_sms = st.text_area(\"Enter the message\")\\n\\nif st.button(\\'Predict\\'):\\n    transformed_sms = transform_text(input_sms)\\n    vector_input = tfidf.transform([transformed_sms])\\n    result = model.predict(vector_input)[0]\\n    if result == 1:\\n        st.header(\"Spam\")\\n    elif result==0:\\n        st.header(\"Not Spam\")\\n\\n'"
      ]
     },
     "execution_count": 37,
     "metadata": {},
     "output_type": "execute_result"
    }
   ],
   "source": [
    "'''\n",
    "import streamlit as st\n",
    "import pandas as pd\n",
    "import pickle\n",
    "import streamlit as st\n",
    "import pickle\n",
    "import string\n",
    "from nltk.corpus import stopwords\n",
    "import nltk\n",
    "from nltk.stem.porter import PorterStemmer\n",
    "\n",
    "\n",
    "html_attribution = \"\"\"\n",
    "    <div style=\"background-color:#28a745;padding:20px;margin-bottom:20px\">\n",
    "    <p style=\"color:white;text-align:center;font-size:22px;\">Developed by Pruthvik Machhi</p>\n",
    "    </div>\n",
    "    \"\"\"\n",
    "st.markdown(html_attribution, unsafe_allow_html=True)\n",
    "\n",
    "html_temp_subtitle = \"\"\"\n",
    "    <div style=\"background-color:#ff6347;padding:10px;margin-bottom:20px\">\n",
    "    <h2 style=\"color:white;text-align:center;\">SPAM Detection</h2>\n",
    "    </div>\n",
    "    \"\"\"\n",
    "st.markdown(html_temp_subtitle, unsafe_allow_html=True)\n",
    "\n",
    "st.subheader('Enter Text')\n",
    "\n",
    "\n",
    "ps = PorterStemmer()\n",
    "def transform_text(text):\n",
    "    text = text.lower()\n",
    "    text = nltk.word_tokenize(text)\n",
    "\n",
    "    y = []\n",
    "    for i in text:\n",
    "        if i.isalnum():\n",
    "            y.append(i)\n",
    "\n",
    "    text = y[:]\n",
    "    y.clear()\n",
    "\n",
    "    for i in text:\n",
    "        if i not in stopwords.words('english') and i not in string.punctuation:\n",
    "            y.append(i)\n",
    "\n",
    "    text = y[:]\n",
    "    y.clear()\n",
    "\n",
    "    for i in text:\n",
    "        y.append(ps.stem(i))\n",
    "\n",
    "    return \" \".join(y)\n",
    "\n",
    "\n",
    "tfidf = pickle.load(open('vectorizer2.pkl','rb'))\n",
    "model = pickle.load(open('model3b.pkl','rb'))\n",
    "\n",
    "st.title(\"SMS Spam Classifier\")\n",
    "\n",
    "input_sms = st.text_area(\"Enter the message\")\n",
    "\n",
    "if st.button('Predict'):\n",
    "    transformed_sms = transform_text(input_sms)\n",
    "    vector_input = tfidf.transform([transformed_sms])\n",
    "    result = model.predict(vector_input)[0]\n",
    "    if result == 1:\n",
    "        st.header(\"Spam\")\n",
    "    elif result==0:\n",
    "        st.header(\"Not Spam\")\n",
    "\n",
    "'''"
   ]
  },
  {
   "cell_type": "markdown",
   "id": "439aa2c5",
   "metadata": {
    "papermill": {
     "duration": 0.028158,
     "end_time": "2024-06-18T09:06:45.389852",
     "exception": false,
     "start_time": "2024-06-18T09:06:45.361694",
     "status": "completed"
    },
    "tags": []
   },
   "source": [
    "<div style=\"background-color: #66bbf1; padding: 28px; border-radius: 10px;\">\n",
    "    <h1 style=\"text-align: left; font-size: 30px;\">Deploy it on server </h1>\n",
    "</div>"
   ]
  },
  {
   "cell_type": "code",
   "execution_count": 38,
   "id": "11f05edf",
   "metadata": {
    "execution": {
     "iopub.execute_input": "2024-06-18T09:06:45.440661Z",
     "iopub.status.busy": "2024-06-18T09:06:45.440226Z",
     "iopub.status.idle": "2024-06-18T09:06:45.459942Z",
     "shell.execute_reply": "2024-06-18T09:06:45.458449Z"
    },
    "papermill": {
     "duration": 0.049046,
     "end_time": "2024-06-18T09:06:45.463261",
     "exception": false,
     "start_time": "2024-06-18T09:06:45.414215",
     "status": "completed"
    },
    "tags": []
   },
   "outputs": [
    {
     "data": {
      "image/png": "[encoded data removed]",
      "text/plain": [
       "<IPython.core.display.Image object>"
      ]
     },
     "execution_count": 38,
     "metadata": {},
     "output_type": "execute_result"
    }
   ],
   "source": [
    "from IPython.display import Image\n",
    "Image(filename='/kaggle/input/spam-detction/Screenshot 2024-06-18 142454.png')"
   ]
  },
  {
   "cell_type": "markdown",
   "id": "ae6cd848",
   "metadata": {
    "papermill": {
     "duration": 0.025804,
     "end_time": "2024-06-18T09:06:45.516537",
     "exception": false,
     "start_time": "2024-06-18T09:06:45.490733",
     "status": "completed"
    },
    "tags": []
   },
   "source": [
    "<div style=\"background-color: #66bbf1; padding: 28px; border-radius: 10px;\">\n",
    "    <h1 style=\"text-align: left; font-size: 30px;\">Find all files on my github </h1>\n",
    "</div>"
   ]
  },
  {
   "cell_type": "markdown",
   "id": "3a956bed",
   "metadata": {
    "papermill": {
     "duration": 0.024514,
     "end_time": "2024-06-18T09:06:45.565894",
     "exception": false,
     "start_time": "2024-06-18T09:06:45.541380",
     "status": "completed"
    },
    "tags": []
   },
   "source": [
    "Github: https://github.com/Pruthvik-Machhi/Spam-detection-end-to-end"
   ]
  },
  {
   "cell_type": "markdown",
   "id": "a435e3db",
   "metadata": {
    "papermill": {
     "duration": 0.025376,
     "end_time": "2024-06-18T09:06:45.616962",
     "exception": false,
     "start_time": "2024-06-18T09:06:45.591586",
     "status": "completed"
    },
    "tags": []
   },
   "source": [
    "<div style=\"background-color: #66bbf1; padding: 28px; border-radius: 10px;\">\n",
    "    <h1 style=\"text-align: left; font-size: 30px;\">Thanks for exploring my notebook. Upvote if you like the work. Also, Give your feedback in comments. </h1>\n",
    "</div>"
   ]
  }
 ],
 "metadata": {
  "kaggle": {
   "accelerator": "none",
   "dataSources": [
    {
     "datasetId": 483,
     "sourceId": 982,
     "sourceType": "datasetVersion"
    },
    {
     "datasetId": 5231562,
     "sourceId": 8719044,
     "sourceType": "datasetVersion"
    }
   ],
   "dockerImageVersionId": 30732,
   "isGpuEnabled": false,
   "isInternetEnabled": true,
   "language": "python",
   "sourceType": "notebook"
  },
  "kernelspec": {
   "display_name": "Python 3",
   "language": "python",
   "name": "python3"
  },
  "language_info": {
   "codemirror_mode": {
    "name": "ipython",
    "version": 3
   },
   "file_extension": ".py",
   "mimetype": "text/x-python",
   "name": "python",
   "nbconvert_exporter": "python",
   "pygments_lexer": "ipython3",
   "version": "3.10.13"
  },
  "papermill": {
   "default_parameters": {},
   "duration": 435.572646,
   "end_time": "2024-06-18T09:06:48.270222",
   "environment_variables": {},
   "exception": null,
   "input_path": "__notebook__.ipynb",
   "output_path": "__notebook__.ipynb",
   "parameters": {},
   "start_time": "2024-06-18T08:59:32.697576",
   "version": "2.5.0"
  }
 },
 "nbformat": 4,
 "nbformat_minor": 5
}
